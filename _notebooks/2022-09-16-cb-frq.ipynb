{
 "cells": [
  {
   "cell_type": "markdown",
   "metadata": {},
   "source": [
    "# CollegeBoard FRQ #1\n",
    "> This shows an FRQ for Collegeboard focused on iteration and arrays\n",
    "\n",
    "- toc: true\n",
    "- branch: master\n",
    "- badges: true\n",
    "- comments: true\n",
    "- author: Rohan Juneja\n",
    "- categories: [cb]"
   ]
  },
  {
   "cell_type": "markdown",
   "metadata": {},
   "source": [
    "This question involves reasoning about one-dimensional and two-dimensional arrays of integers. You will write\n",
    "three static methods, all of which are in a single enclosing class, named DiverseArray (not shown). The\n",
    "first method returns the sum of the values of a one-dimensional array; the second method returns an array that\n",
    "represents the sums of the rows of a two-dimensional array; and the third method analyzes row sums."
   ]
  },
  {
   "cell_type": "markdown",
   "metadata": {},
   "source": [
    "In part (a), the instructions are to Write a static method arraySum that calculates and returns the sum of the entries in a specified\n",
    "one-dimensional array."
   ]
  },
  {
   "cell_type": "code",
   "execution_count": 3,
   "metadata": {
    "vscode": {
     "languageId": "java"
    }
   },
   "outputs": [],
   "source": [
    "public static int arraySum (int[] arr1) {\n",
    "  int sum = 0;\n",
    "  for (int i = 0; i<arr1.length; i++) {\n",
    "    sum += arr1[i];\n",
    "  }\n",
    "  return sum;\n",
    "}"
   ]
  },
  {
   "cell_type": "markdown",
   "metadata": {},
   "source": [
    "Here we can test the method with the example array which is [1, 3, 2, 7, 3], which should have a sum of 16."
   ]
  },
  {
   "cell_type": "code",
   "execution_count": 4,
   "metadata": {
    "vscode": {
     "languageId": "java"
    }
   },
   "outputs": [
    {
     "name": "stdout",
     "output_type": "stream",
     "text": [
      "16\n"
     ]
    }
   ],
   "source": [
    "int[] arrayTest = {1, 3, 2, 7, 3};\n",
    "System.out.println(arraySum(arrayTest));"
   ]
  },
  {
   "cell_type": "markdown",
   "metadata": {},
   "source": [
    "Part (b) asks to Write a static method rowSums that calculates the sums of each of the rows in a given two dimensional array and returns these sums in a one-dimensional array. The method has one parameter, a two dimensional array arr2D of int values. The array is in row-major order: arr2D[r][c] is the entry \n",
    "at row r and column c. The method returns a one-dimensional array with one entry for each row of\n",
    "arr2D such that each entry is the sum of the corresponding row in arr2D."
   ]
  },
  {
   "cell_type": "code",
   "execution_count": 8,
   "metadata": {
    "vscode": {
     "languageId": "java"
    }
   },
   "outputs": [],
   "source": [
    "public static int[] rowSums(int[][] arr2D) {\n",
    "  int[] sums = new int[arr2D.length]; //elements initialize to 0\n",
    "  for (int i = 0; i < arr2D.length; i++) {\n",
    "    for (int j = 0; j < arr2D[i].length; j++) {\n",
    "      sums[i] += arr2D[i][j];\n",
    "    }\n",
    "  }\n",
    "  return sums;\n",
    "}"
   ]
  },
  {
   "cell_type": "markdown",
   "metadata": {},
   "source": [
    "Now we can test with the example:<br>\n",
    "1&nbsp;&nbsp;&nbsp;3&nbsp;&nbsp;&nbsp;2&nbsp;&nbsp;&nbsp;7&nbsp;&nbsp;&nbsp;3<br>\n",
    "10&nbsp;&nbsp;10&nbsp;&nbsp;4&nbsp;&nbsp;&nbsp;6&nbsp;&nbsp;&nbsp;2<br>\n",
    "5&nbsp;&nbsp;&nbsp;3&nbsp;&nbsp;&nbsp;5&nbsp;&nbsp;&nbsp;9&nbsp;&nbsp;&nbsp;6<br>\n",
    "7&nbsp;&nbsp;&nbsp;6&nbsp;&nbsp;&nbsp;4&nbsp;&nbsp;&nbsp;2&nbsp;&nbsp;&nbsp;1<br>"
   ]
  },
  {
   "cell_type": "markdown",
   "metadata": {},
   "source": [
    "The expected output here is  {16, 32, 28, 20}."
   ]
  },
  {
   "cell_type": "code",
   "execution_count": 9,
   "metadata": {
    "vscode": {
     "languageId": "java"
    }
   },
   "outputs": [
    {
     "name": "stdout",
     "output_type": "stream",
     "text": [
      "16\n",
      "32\n",
      "28\n",
      "20\n"
     ]
    }
   ],
   "source": [
    "int[][] arrayTest2D = {\n",
    "  {1, 3, 2, 7, 3},\n",
    "  {10, 10, 4, 6, 2},\n",
    "  {5, 3, 5, 9, 6},\n",
    "  {7, 6, 4, 2, 1}\n",
    "};\n",
    "int[] sums = rowSums(arrayTest2D);\n",
    "for (int i = 0; i<sums.length; i++) {\n",
    "  System.out.println(sums[i]);\n",
    "}"
   ]
  },
  {
   "cell_type": "markdown",
   "metadata": {},
   "source": [
    "Part (c) asks us to Write a static method isDiverse that determines whether or not a given two-dimensional array is \n",
    "diverse. The method has one parameter: a two-dimensional array arr2D of int values. The method \n",
    "should return true if all the row sums in the given array are unique; otherwise, it should return false"
   ]
  },
  {
   "cell_type": "code",
   "execution_count": 12,
   "metadata": {
    "vscode": {
     "languageId": "java"
    }
   },
   "outputs": [],
   "source": [
    "public static boolean isDiverse (int[][] arr2D) {\n",
    "  int[] sums = rowSums(arr2D);\n",
    "  for (int i = 0; i < sums.length; i++) {\n",
    "    for (int j = i + 1; j < sums.length; j++) {\n",
    "      if (sums[i] == sums[j]) return false; // returns false if two elements are the same\n",
    "    }\n",
    "  }\n",
    "\n",
    "  //if end is reached all elements have passed uniqueness test\n",
    "  return true;\n",
    "}"
   ]
  },
  {
   "cell_type": "markdown",
   "metadata": {},
   "source": [
    "We can test with the two provided examples which are diverse and not diverse."
   ]
  },
  {
   "cell_type": "markdown",
   "metadata": {},
   "source": [
    "This example is diverse:<br>\n",
    "1&nbsp;&nbsp;&nbsp;3&nbsp;&nbsp;&nbsp;2&nbsp;&nbsp;&nbsp;7&nbsp;&nbsp;&nbsp;3<br>\n",
    "10&nbsp;&nbsp;10&nbsp;&nbsp;4&nbsp;&nbsp;&nbsp;6&nbsp;&nbsp;&nbsp;2<br>\n",
    "5&nbsp;&nbsp;&nbsp;3&nbsp;&nbsp;&nbsp;5&nbsp;&nbsp;&nbsp;9&nbsp;&nbsp;&nbsp;6<br>\n",
    "7&nbsp;&nbsp;&nbsp;6&nbsp;&nbsp;&nbsp;4&nbsp;&nbsp;&nbsp;2&nbsp;&nbsp;&nbsp;1<br>"
   ]
  },
  {
   "cell_type": "markdown",
   "metadata": {},
   "source": [
    "This example is not diverse:<br>\n",
    "1&nbsp;&nbsp;&nbsp;1&nbsp;&nbsp;&nbsp;5&nbsp;&nbsp;&nbsp;3&nbsp;&nbsp;&nbsp;4<br>\n",
    "12&nbsp;&nbsp;7&nbsp;&nbsp;&nbsp;6&nbsp;&nbsp;&nbsp;1&nbsp;&nbsp;&nbsp;9<br>\n",
    "8&nbsp;&nbsp;&nbsp;11&nbsp;&nbsp;10&nbsp;&nbsp;2&nbsp;&nbsp;&nbsp;5<br>\n",
    "3&nbsp;&nbsp;&nbsp;2&nbsp;&nbsp;&nbsp;3&nbsp;&nbsp;&nbsp;0&nbsp;&nbsp;&nbsp;6\n"
   ]
  },
  {
   "cell_type": "code",
   "execution_count": 13,
   "metadata": {
    "vscode": {
     "languageId": "java"
    }
   },
   "outputs": [
    {
     "name": "stdout",
     "output_type": "stream",
     "text": [
      "true\n",
      "false\n"
     ]
    }
   ],
   "source": [
    "int[][] arrayTestDiverse = {\n",
    "  {1, 3, 2, 7, 3},\n",
    "  {10, 10, 4, 6, 2},\n",
    "  {5, 3, 5, 9, 6},\n",
    "  {7, 6, 4, 2, 1}\n",
    "};\n",
    "int[][] arrayTestNotDiverse = {\n",
    "  {1, 1, 5, 3, 4},\n",
    "  {12, 7, 6, 1, 9},\n",
    "  {8, 11, 10, 2, 5},\n",
    "  {3, 2, 3, 0, 6}\n",
    "};\n",
    "System.out.println(isDiverse(arrayTestDiverse));\n",
    "System.out.println(isDiverse(arrayTestNotDiverse));"
   ]
  }
 ],
 "metadata": {
  "kernelspec": {
   "display_name": "Java",
   "language": "java",
   "name": "java"
  },
  "language_info": {
   "codemirror_mode": "java",
   "file_extension": ".jshell",
   "mimetype": "text/x-java-source",
   "name": "Java",
   "pygments_lexer": "java",
   "version": "11.0.14+9-Ubuntu-0ubuntu2.16.04"
  },
  "orig_nbformat": 4
 },
 "nbformat": 4,
 "nbformat_minor": 2
}
