{
 "cells": [
  {
   "cell_type": "markdown",
   "metadata": {},
   "source": [
    "# If Statements/Boolean Lesson\n",
    "> This is an interactive lesson with jupyter notebooks teaching if statements and boolean expressions\n",
    "\n",
    "- toc:true\n",
    "- branch: master\n",
    "- badges: true\n",
    "- comments: true\n",
    "- author: Rohan Juneja\n",
    "- categories: [cb]"
   ]
  },
  {
   "cell_type": "markdown",
   "metadata": {},
   "source": [
    "# Boolean expressions\n",
    "Boolean expressions are something that can be TRUE or FALSE\n",
    "\n",
    "For example, we can check if two things are equal, greater than eachother or less than eachother. Here I have some examples of how these expresisons could be used in a quiz context. Below I have some equality examples"
   ]
  },
  {
   "cell_type": "code",
   "execution_count": 3,
   "metadata": {
    "vscode": {
     "languageId": "java"
    }
   },
   "outputs": [
    {
     "name": "stdout",
     "output_type": "stream",
     "text": [
      "Is user 1 right?\n",
      "false\n",
      "Is user 2 right?\n",
      "true\n"
     ]
    }
   ],
   "source": [
    "char correctAnswer = 'A';\n",
    "char user1Answer = 'B';\n",
    "char user2Answer = 'A';\n",
    "\n",
    "//Check if user 1's answer was equal to the correct answeer\n",
    "System.out.println(\"Is user 1 right?\");\n",
    "System.out.println(user1Answer == correctAnswer);\n",
    "\n",
    "//Check if user 2's answer was equal to the correct answer\n",
    "System.out.println(\"Is user 2 right?\");\n",
    "System.out.println(user2Answer == correctAnswer);"
   ]
  },
  {
   "cell_type": "markdown",
   "metadata": {},
   "source": [
    "We can also compare some values and see if they are greater or less than."
   ]
  },
  {
   "cell_type": "code",
   "execution_count": 4,
   "metadata": {
    "vscode": {
     "languageId": "java"
    }
   },
   "outputs": [
    {
     "name": "stdout",
     "output_type": "stream",
     "text": [
      "Did user 1 reach the target score?\n",
      "true\n",
      "Did user 2 reach the target\n",
      "false\n"
     ]
    }
   ],
   "source": [
    "int user1Score = 100;\n",
    "int user2Score = 50;\n",
    "int targetScore = 75;\n",
    "\n",
    "//Check if user 1 reached target score\n",
    "System.out.println(\"Did user 1 reach the target score?\");\n",
    "System.out.println(user1Score >= targetScore);\n",
    "\n",
    "//Check if user 2 reached target score\n",
    "System.out.println(\"Did user 2 reach the target score?\");\n",
    "System.out.println(user2Score >= targetScore);"
   ]
  },
  {
   "cell_type": "markdown",
   "metadata": {},
   "source": [
    "An IF statement utilizes boolean expressions and DOES SOMETHING if the expression is true. For example we can use this on the previos two examples"
   ]
  },
  {
   "cell_type": "code",
   "execution_count": 5,
   "metadata": {
    "vscode": {
     "languageId": "java"
    }
   },
   "outputs": [
    {
     "name": "stdout",
     "output_type": "stream",
     "text": [
      "User 2 is right\n"
     ]
    }
   ],
   "source": [
    "char correctAnswer = 'A';\n",
    "char user1Answer = 'B';\n",
    "char user2Answer = 'A';\n",
    "\n",
    "//Check if user 1's answer was equal to the correct answeer\n",
    "if (user1Answer == correctAnswer) {\n",
    "  System.out.println(\"User 1 is right\");\n",
    "}\n",
    "\n",
    "//Check if user 2's answer was equal to the correct answer\n",
    "if (user2Answer == correctAnswer) {\n",
    "  System.out.println(\"User 2 is right\");\n",
    "}"
   ]
  },
  {
   "cell_type": "code",
   "execution_count": 7,
   "metadata": {
    "vscode": {
     "languageId": "java"
    }
   },
   "outputs": [
    {
     "name": "stdout",
     "output_type": "stream",
     "text": [
      "User 1 reached the target score\n"
     ]
    }
   ],
   "source": [
    "int user1Score = 100;\n",
    "int user2Score = 50;\n",
    "int targetScore = 75;\n",
    "\n",
    "//Check if user 1 reached target score\n",
    "if (user1Score >= targetScore) {\n",
    "  System.out.println(\"User 1 reached the target score\");\n",
    "}\n",
    "\n",
    "//Check if user 2 reached target score\n",
    "if (user2Score >= targetScore) {\n",
    "  System.out.println(\"User 2 reached the target score\");\n",
    "}"
   ]
  },
  {
   "cell_type": "markdown",
   "metadata": {},
   "source": [
    "Now, going further what if we wanted to complete some action if the user DID NOT reach the target score. In this case we can use an ELSE statement."
   ]
  },
  {
   "cell_type": "code",
   "execution_count": 1,
   "metadata": {
    "vscode": {
     "languageId": "java"
    }
   },
   "outputs": [
    {
     "name": "stdout",
     "output_type": "stream",
     "text": [
      "User 1 reached the target score\n",
      "User 2 failed\n"
     ]
    }
   ],
   "source": [
    "int user1Score = 100;\n",
    "int user2Score = 50;\n",
    "int targetScore = 75;\n",
    "\n",
    "//Check if user 1 reached target score\n",
    "if (user1Score >= targetScore) {\n",
    "  System.out.println(\"User 1 reached the target score\");\n",
    "} else {\n",
    "  System.out.println(\"User 1 failed\");\n",
    "}\n",
    "\n",
    "//Check if user 2 reached target score\n",
    "if (user2Score >= targetScore) {\n",
    "  System.out.println(\"User 2 reached the target score\");\n",
    "} else {\n",
    "  System.out.println(\"User 2 failed\");\n",
    "}"
   ]
  },
  {
   "cell_type": "markdown",
   "metadata": {},
   "source": [
    "Now, let's say that we want to give the points to answers, but there are different points for each answer choice. This would cause us to chain if logic, which is where we can use an ELSE IF statement."
   ]
  },
  {
   "cell_type": "code",
   "execution_count": 6,
   "metadata": {
    "vscode": {
     "languageId": "java"
    }
   },
   "outputs": [
    {
     "name": "stdout",
     "output_type": "stream",
     "text": [
      "User 1 has 10 points.\n",
      "User 2 has -10 points.\n"
     ]
    }
   ],
   "source": [
    "char user1AnswerChoice = 'C';\n",
    "char user2AnswerChoice = 'A';\n",
    "\n",
    "char reallyCorrectAnswer = 'D';\n",
    "char correctAnswer = 'B';\n",
    "char partiallyCorrectAnswer = 'C';\n",
    "char reallyWrongAnswer = 'A';\n",
    "\n",
    "\n",
    "int user1Points = 0;\n",
    "int user2Points = 0;\n",
    "\n",
    "// process user 1's answer\n",
    "if (user1AnswerChoice == reallyCorrectAnswer) {\n",
    "  // really correct answer is 30 points\n",
    "  user1Points += 30;\n",
    "} else if (user1AnswerChoice == correctAnswer) {\n",
    "  // correct answer is 20 points\n",
    "  user1Points += 20;\n",
    "} else if (user1AnswerChoice == partiallyCorrectAnswer) {\n",
    "  // partially correct answer is 10 points\n",
    "  user1Points += 10;\n",
    "} else if (user1AnswerChoice == reallyWrongAnswer) {\n",
    "  // a really wrong answer loses 10 points\n",
    "  user1Points -= 10;\n",
    "} else {\n",
    "  // 1 point for trying and not choosing the really wrong answer\n",
    "  user1Points += 1;\n",
    "}\n",
    "\n",
    "//process user 2's answer\n",
    "if (user2AnswerChoice == reallyCorrectAnswer) {\n",
    "  // really correct answer is 30 points\n",
    "  user2Points += 30;\n",
    "} else if (user2AnswerChoice == correctAnswer) {\n",
    "  // correct answer is 20 points\n",
    "  user2Points += 20;\n",
    "} else if (user2AnswerChoice == partiallyCorrectAnswer) {\n",
    "  // partially correct answer is 10 points\n",
    "  user2Points += 10;\n",
    "} else if (user2AnswerChoice == reallyWrongAnswer) {\n",
    "  // a really wrong answer loses 10 points\n",
    "  user2Points -= 10;\n",
    "} else {\n",
    "  // 1 point for trying and not choosing the really wrong answer\n",
    "  user2Points += 1;\n",
    "}\n",
    "\n",
    "System.out.println(\"User 1 has \" + user1Points + \" points.\");\n",
    "System.out.println(\"User 2 has \" + user2Points + \" points.\");"
   ]
  },
  {
   "cell_type": "markdown",
   "metadata": {},
   "source": [
    "In this example, we see a lot of chaining with the if statements. This could be greatly simplified if we used a switch statement, which allows us to select code based on the value of a variable. See the example below the previous code transformed to switch cases."
   ]
  },
  {
   "cell_type": "markdown",
   "metadata": {},
   "source": [
    "Note that as shown below, the switch statement cases cannot have variables in them as they must be constant expressions."
   ]
  },
  {
   "cell_type": "code",
   "execution_count": 9,
   "metadata": {
    "vscode": {
     "languageId": "java"
    }
   },
   "outputs": [
    {
     "name": "stdout",
     "output_type": "stream",
     "text": [
      "User 1 has 10 points.\n",
      "User 2 has -10 points.\n"
     ]
    }
   ],
   "source": [
    "char user1AnswerChoice = 'C';\n",
    "char user2AnswerChoice = 'A';\n",
    "\n",
    "\n",
    "int user1Points = 0;\n",
    "int user2Points = 0;\n",
    "\n",
    "// process user 1's answer\n",
    "switch (user1AnswerChoice) {\n",
    "  case 'D':\n",
    "    user1Points += 30;\n",
    "    break;\n",
    "  case 'B':\n",
    "    user1Points += 20;\n",
    "    break;\n",
    "  case 'C':\n",
    "    user1Points += 10;\n",
    "    break;\n",
    "  case 'A':\n",
    "    user1Points -= 10;\n",
    "    break;\n",
    "  default:\n",
    "    user1Points += 1;\n",
    "    break;\n",
    "}\n",
    "\n",
    "//process user 2's answer\n",
    "switch (user2AnswerChoice) {\n",
    "  case 'D':\n",
    "    user2Points += 30;\n",
    "    break;\n",
    "  case 'B':\n",
    "    user2Points += 20;\n",
    "    break;\n",
    "  case 'C':\n",
    "    user2Points += 10;\n",
    "    break;\n",
    "  case 'A':\n",
    "    user2Points -= 10;\n",
    "    break;\n",
    "  default:\n",
    "    user2Points += 1;\n",
    "    break;\n",
    "}\n",
    "\n",
    "System.out.println(\"User 1 has \" + user1Points + \" points.\");\n",
    "System.out.println(\"User 2 has \" + user2Points + \" points.\");"
   ]
  },
  {
   "cell_type": "markdown",
   "metadata": {},
   "source": [
    "Another thing to understand related to this is how to combine conditionals together using AND (&&) and OR (||). They mean what they say, AND returns true if both conditions is true while OR returns true if both or one of the conditions is true. See some examples below. The NOT (!) operator is also useful to flip a boolean value."
   ]
  },
  {
   "cell_type": "code",
   "execution_count": 13,
   "metadata": {
    "vscode": {
     "languageId": "java"
    }
   },
   "outputs": [
    {
     "name": "stdout",
     "output_type": "stream",
     "text": [
      "At least one user got it right\n",
      "Both users DID NOT get it right\n"
     ]
    }
   ],
   "source": [
    "char correctAnswer = 'E';\n",
    "char user1Answer = 'D';\n",
    "char user2Answer = 'E';\n",
    "\n",
    "// Using AND operator\n",
    "if (user1Answer == correctAnswer && user2Answer == correctAnswer) {\n",
    "  System.out.println(\"Both users got it right\");\n",
    "}\n",
    "\n",
    "// Using OR operator\n",
    "if (user1Answer == correctAnswer || user2Answer == correctAnswer) {\n",
    "  System.out.println(\"At least one user got it right\");\n",
    "}\n",
    "\n",
    "// Using AND + NOT operator\n",
    "if (!(user1Answer == correctAnswer && user2Answer == correctAnswer)) {\n",
    "  System.out.println(\"Both users DID NOT get it right\");\n",
    "}\n",
    "\n",
    "// Using OR operator\n",
    "if (!(user1Answer == correctAnswer || user2Answer == correctAnswer)) {\n",
    "  System.out.println(\"NEITHER user1 nor user2 got it right\");\n",
    "}"
   ]
  },
  {
   "cell_type": "markdown",
   "metadata": {},
   "source": [
    "The final relevant thing to understand for if statements & boolean expressions is De Morgan's Law. This is an important property that can allow you to switch your if statements with AND and OR. It states that ``NOT (A AND B) = (NOT A) OR (NOT B)`` and ``NOT (A OR B) = (NOT A) AND (NOT B)``. To illustrate this, I will simplify the last two if statements from the previous example using De Morgan's Law."
   ]
  },
  {
   "cell_type": "code",
   "execution_count": 14,
   "metadata": {
    "vscode": {
     "languageId": "java"
    }
   },
   "outputs": [
    {
     "name": "stdout",
     "output_type": "stream",
     "text": [
      "Both users DID NOT get it right\n"
     ]
    }
   ],
   "source": [
    "// Using first de morgan's law (Note the use of the != operator meaning NOT EQUAL TO)\n",
    "if (user1Answer != correctAnswer || user2Answer != correctAnswer) {\n",
    "  System.out.println(\"Both users DID NOT get it right\");\n",
    "}\n",
    "\n",
    "// Using second de morgan's law\n",
    "if (user1Answer != correctAnswer && user2Answer != correctAnswer) {\n",
    "  System.out.println(\"NEITHER user1 nor user2 got it right\");\n",
    "}"
   ]
  },
  {
   "cell_type": "markdown",
   "metadata": {},
   "source": [
    "Now we reach the end of this lesson. Here are some \"hacks\" I recommend you can do to further learn these concepts:\n",
    "\n",
    "- Create a quiz or other application that heavily utilizes if statements\n",
    "- Code a custom application in the spring app using if statements\n",
    "- Try to create a menu from scratch (without looking at Mr. M's code) as it is a great place to utilize switch cases"
   ]
  },
  {
   "cell_type": "markdown",
   "metadata": {},
   "source": []
  }
 ],
 "metadata": {
  "kernelspec": {
   "display_name": "Java",
   "language": "java",
   "name": "java"
  },
  "language_info": {
   "codemirror_mode": "java",
   "file_extension": ".jshell",
   "mimetype": "text/x-java-source",
   "name": "Java",
   "pygments_lexer": "java",
   "version": "11.0.14+9-Ubuntu-0ubuntu2.16.04"
  },
  "orig_nbformat": 4
 },
 "nbformat": 4,
 "nbformat_minor": 2
}
