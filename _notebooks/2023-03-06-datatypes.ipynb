{
 "cells": [
  {
   "attachments": {},
   "cell_type": "markdown",
   "metadata": {},
   "source": [
    "# Data Types Hacks\n",
    "> Hacks for the data types lesson\n",
    "- categories: [cb]\n",
    "- toc: true"
   ]
  },
  {
   "attachments": {},
   "cell_type": "markdown",
   "metadata": {},
   "source": [
    "# Binary Addition Seed"
   ]
  },
  {
   "cell_type": "code",
   "execution_count": 19,
   "metadata": {
    "vscode": {
     "languageId": "java"
    }
   },
   "outputs": [
    {
     "name": "stdout",
     "output_type": "stream",
     "text": [
      "Input first binary number: 1\n",
      "Input second binary number: 1\n",
      "The sum is: 10\n"
     ]
    }
   ],
   "source": [
    "import java.util.*;\n",
    "\n",
    "public class BinaryAddition {\n",
    "    static Scanner sc = new Scanner(System.in);\n",
    "    \n",
    "    public static int inputBinary (String prompt) {\n",
    "        System.out.print(prompt);\n",
    "        int deciOne = sc.nextInt();\n",
    "        System.out.println(deciOne);\n",
    "        int binOne = 0;\n",
    "        for (int i = 10; i>=0; i--) {\n",
    "            binOne += (int)((deciOne % Math.pow(10,i+1)) / Math.pow(10,i)) * (Math.pow(2,i)); \n",
    "        }\n",
    "        return binOne;\n",
    "    }\n",
    "    \n",
    "    public static String addBin (int numOne, int numTwo) {\n",
    "        String sum = \"\";\n",
    "        int carryOver = 0;\n",
    "        for (int i = 0; i<=33; i++) {\n",
    "            int first = numOne % 2;\n",
    "            int second = numTwo % 2;\n",
    "            if (first + second + carryOver > 1) { \n",
    "                sum = (char)('0' + (first + second + carryOver - 2)) + sum;\n",
    "                carryOver = 1; \n",
    "            }\n",
    "            else {\n",
    "                sum = Integer.toString(first + second + carryOver) + sum;\n",
    "                carryOver = 0; \n",
    "            }\n",
    "            numOne = numOne >> 1;\n",
    "            numTwo = numTwo >> 1;\n",
    "        }\n",
    "        \n",
    "        // cut string\n",
    "        while (sum.charAt(0) == '0' && sum.length() > 1) {\n",
    "            sum = sum.substring(1, sum.length());\n",
    "        }\n",
    "        \n",
    "        return sum;\n",
    "    }\n",
    "    \n",
    "    public static void main (String[] args) {\n",
    "        int numOne = inputBinary(\"Input first binary number: \");\n",
    "        int numTwo = inputBinary(\"Input second binary number: \");\n",
    "        String sum = addBin(numOne, numTwo);\n",
    "        System.out.println(\"The sum is: \" + sum);\n",
    "    }\n",
    "}\n",
    "\n",
    "BinaryAddition.main(null);"
   ]
  },
  {
   "attachments": {},
   "cell_type": "markdown",
   "metadata": {},
   "source": [
    "# int/Integer"
   ]
  },
  {
   "cell_type": "code",
   "execution_count": 6,
   "metadata": {
    "vscode": {
     "languageId": "java"
    }
   },
   "outputs": [
    {
     "name": "stdout",
     "output_type": "stream",
     "text": [
      "a = 85 and b = 90\n",
      "a = 85 and b = 90\n",
      "c = 175\n"
     ]
    }
   ],
   "source": [
    "void swap (int a, int b) {\n",
    "  int temp = a;\n",
    "  a = b;\n",
    "  b = temp;\n",
    "}\n",
    "\n",
    "int a = (int)(Math.random()*100);\n",
    "int b = (int)(Math.random()*100);\n",
    "System.out.println(\"a = \" + a + \" and \" + \"b = \" + b);\n",
    "\n",
    "swap(a, b);\n",
    "// values stay the same\n",
    "System.out.println(\"a = \" + a + \" and \" + \"b = \" + b);\n",
    "\n",
    "int c = a + b;\n",
    "System.out.println(\"c = \" + c);"
   ]
  },
  {
   "cell_type": "code",
   "execution_count": 4,
   "metadata": {
    "vscode": {
     "languageId": "java"
    }
   },
   "outputs": [
    {
     "name": "stdout",
     "output_type": "stream",
     "text": [
      "arr (1st) = 95 and arr (2nd) = 31\n",
      "arr (1st) = 95 and  arr (2nd) = 31\n",
      "c = 126\n"
     ]
    }
   ],
   "source": [
    "void swap (Integer a, Integer b) {\n",
    "  Integer temp = a;\n",
    "  a = b;\n",
    "  b = temp;\n",
    "}\n",
    "\n",
    "Integer a = new Integer((int)(Math.random()*100));\n",
    "Integer b = (int)(Math.random()*100);\n",
    "ArrayList<Integer> arr = new ArrayList<Integer>();\n",
    "arr.add(a);\n",
    "arr.add(b);\n",
    "System.out.println(\"arr (1st) = \" + arr.get(0) + \" and \" + \"arr (2nd) = \" + arr.get(1));\n",
    "\n",
    "swap(arr.get(0), arr.get(1));\n",
    "// values stay the same\n",
    "System.out.println(\"arr (1st) = \" + arr.get(0) + \" and \" + \" arr (2nd) = \" + arr.get(1));\n",
    "\n",
    "Integer c = a + b;\n",
    "System.out.println(\"c = \" + c);"
   ]
  },
  {
   "attachments": {},
   "cell_type": "markdown",
   "metadata": {},
   "source": [
    "# double/Double"
   ]
  },
  {
   "cell_type": "code",
   "execution_count": 8,
   "metadata": {
    "vscode": {
     "languageId": "java"
    }
   },
   "outputs": [
    {
     "name": "stdout",
     "output_type": "stream",
     "text": [
      "a = 0.5392976519054533 and b = 0.7136309112889999\n",
      "a = 0.5392976519054533 and b = 0.7136309112889999\n",
      "c = 1.2529285631944531\n"
     ]
    }
   ],
   "source": [
    "void swap (double a, double b) {\n",
    "  double temp = a;\n",
    "  a = b;\n",
    "  b = temp;\n",
    "}\n",
    "\n",
    "double a = Math.random();\n",
    "double b = Math.random();\n",
    "System.out.println(\"a = \" + a + \" and \" + \"b = \" + b);\n",
    "\n",
    "swap(a, b);\n",
    "// values stay the same\n",
    "System.out.println(\"a = \" + a + \" and \" + \"b = \" + b);\n",
    "\n",
    "double c = a + b;\n",
    "System.out.println(\"c = \" + c);"
   ]
  },
  {
   "cell_type": "code",
   "execution_count": 5,
   "metadata": {
    "vscode": {
     "languageId": "java"
    }
   },
   "outputs": [
    {
     "name": "stdout",
     "output_type": "stream",
     "text": [
      "arr (1st) = 0.8714734691329225 and arr (2nd) = 0.958581170162068\n",
      "arr (1st) = 0.8714734691329225 and arr (2nd) = 0.958581170162068\n",
      "c = 1.8300546392949903\n"
     ]
    }
   ],
   "source": [
    "void swap (Double a, Double b) {\n",
    "  Double temp = a;\n",
    "  a = b;\n",
    "  b = temp;\n",
    "}\n",
    "\n",
    "Double a = new Double(Math.random());\n",
    "Double b = new Double(Math.random());\n",
    "ArrayList<Double> arr = new ArrayList<>();\n",
    "arr.add(a);\n",
    "arr.add(b);\n",
    "\n",
    "System.out.println(\"arr (1st) = \" + arr.get(0) + \" and \" + \"arr (2nd) = \" + arr.get(1));\n",
    "\n",
    "swap(arr.get(0), arr.get(1));\n",
    "// values stay the same\n",
    "System.out.println(\"arr (1st) = \" + arr.get(0) + \" and \" + \"arr (2nd) = \" + arr.get(1));\n",
    "\n",
    "double c = a + b;\n",
    "System.out.println(\"c = \" + c);"
   ]
  },
  {
   "attachments": {},
   "cell_type": "markdown",
   "metadata": {},
   "source": [
    "# boolean/Boolean"
   ]
  },
  {
   "cell_type": "code",
   "execution_count": 9,
   "metadata": {
    "vscode": {
     "languageId": "java"
    }
   },
   "outputs": [
    {
     "name": "stdout",
     "output_type": "stream",
     "text": [
      "a = true and b = false\n",
      "a = true and b = false\n",
      "c = true\n"
     ]
    }
   ],
   "source": [
    "void swap (boolean a, boolean b) {\n",
    "  boolean temp = a;\n",
    "  a = b;\n",
    "  b = temp;\n",
    "}\n",
    "\n",
    "boolean a = true;\n",
    "boolean b = false;\n",
    "System.out.println(\"a = \" + a + \" and \" + \"b = \" + b);\n",
    "\n",
    "swap(a, b);\n",
    "// values stay the same\n",
    "System.out.println(\"a = \" + a + \" and \" + \"b = \" + b);\n",
    "\n",
    "boolean c = a || b;\n",
    "System.out.println(\"c = \" + c);"
   ]
  },
  {
   "cell_type": "code",
   "execution_count": 6,
   "metadata": {
    "vscode": {
     "languageId": "java"
    }
   },
   "outputs": [
    {
     "name": "stdout",
     "output_type": "stream",
     "text": [
      "arr (1st) = true and arr (2nd) = false\n",
      "arr (1st) = true and arr (2nd) = false\n",
      "c = true\n"
     ]
    }
   ],
   "source": [
    "void swap (Boolean a, Boolean b) {\n",
    "  Boolean temp = a;\n",
    "  a = b;\n",
    "  b = temp;\n",
    "}\n",
    "\n",
    "Boolean a = true;\n",
    "Boolean b = false;\n",
    "ArrayList<Boolean> arr = new ArrayList<>();\n",
    "arr.add(a);\n",
    "arr.add(b);\n",
    "\n",
    "System.out.println(\"arr (1st) = \" + arr.get(0) + \" and \" + \"arr (2nd) = \" + arr.get(1));\n",
    "\n",
    "swap(arr.get(0), arr.get(1));\n",
    "// values stay the same\n",
    "System.out.println(\"arr (1st) = \" + arr.get(0) + \" and \" + \"arr (2nd) = \" + arr.get(1));\n",
    "\n",
    "boolean c = a || b;\n",
    "System.out.println(\"c = \" + c);"
   ]
  },
  {
   "attachments": {},
   "cell_type": "markdown",
   "metadata": {},
   "source": [
    "# char/Character"
   ]
  },
  {
   "cell_type": "code",
   "execution_count": 15,
   "metadata": {
    "vscode": {
     "languageId": "java"
    }
   },
   "outputs": [
    {
     "name": "stdout",
     "output_type": "stream",
     "text": [
      "a = a and b = b\n",
      "a = a and b = b\n",
      "str = ab\n",
      "str substring 0 to 1 = a\n"
     ]
    }
   ],
   "source": [
    "void swapCh (char a, char b) {\n",
    "  char temp = a;\n",
    "  a = b;\n",
    "  b = temp;\n",
    "}\n",
    "\n",
    "char a = 'a';\n",
    "char b = 'b';\n",
    "System.out.println(\"a = \" + a + \" and \" + \"b = \" + b);\n",
    "\n",
    "swapCh(a, b);\n",
    "// values stay the same\n",
    "System.out.println(\"a = \" + a + \" and \" + \"b = \" + b);\n",
    "\n",
    "char[] c = {a, b};\n",
    "String str = new String(c);\n",
    "System.out.println(\"str = \" + str);\n",
    "\n",
    "System.out.println(\"str substring 0 to 1 = \" + str.substring(0,1));"
   ]
  },
  {
   "cell_type": "code",
   "execution_count": 10,
   "metadata": {
    "vscode": {
     "languageId": "java"
    }
   },
   "outputs": [
    {
     "name": "stdout",
     "output_type": "stream",
     "text": [
      "arr (1st) = a and arr (2nd) = b\n",
      "arr (1st) = a and arr (2nd) = b\n",
      "str = ab\n",
      "str substring 0 to 1 = a\n"
     ]
    }
   ],
   "source": [
    "void swapCh (Character a, Character b) {\n",
    "  Character temp = a;\n",
    "  a = b;\n",
    "  b = temp;\n",
    "}\n",
    "\n",
    "Character a = new Character('a');\n",
    "Character b = new Character('b');\n",
    "ArrayList<Character> arr = new ArrayList<>();\n",
    "arr.add(a);\n",
    "arr.add(b);\n",
    "\n",
    "System.out.println(\"arr (1st) = \" + arr.get(0) + \" and \" + \"arr (2nd) = \" + arr.get(1));\n",
    "\n",
    "swapCh(arr.get(0), arr.get(1));\n",
    "// values stay the same\n",
    "System.out.println(\"arr (1st) = \" + arr.get(0) + \" and \" + \"arr (2nd) = \" + arr.get(1));\n",
    "\n",
    "char[] c = new char[arr.size()];\n",
    "for (int i = 0; i<arr.size(); i++) {\n",
    "  c[i] = arr.get(i);\n",
    "}\n",
    "\n",
    "String str = new String(c);\n",
    "System.out.println(\"str = \" + str);\n",
    "\n",
    "System.out.println(\"str substring 0 to 1 = \" + str.substring(0,1));"
   ]
  }
 ],
 "metadata": {
  "kernelspec": {
   "display_name": "Java",
   "language": "java",
   "name": "java"
  },
  "language_info": {
   "codemirror_mode": "java",
   "file_extension": ".jshell",
   "mimetype": "text/x-java-source",
   "name": "Java",
   "pygments_lexer": "java",
   "version": "17-ea+11-Ubuntu-116.042"
  },
  "orig_nbformat": 4
 },
 "nbformat": 4,
 "nbformat_minor": 2
}
