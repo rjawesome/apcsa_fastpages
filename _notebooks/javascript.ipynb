{
 "cells": [
  {
   "cell_type": "code",
   "execution_count": null,
   "id": "a5a776a0",
   "metadata": {},
   "outputs": [],
   "source": [
    "console.log(\"hello\");"
   ]
  },
  {
   "cell_type": "code",
   "execution_count": null,
   "id": "b9b2fea3",
   "metadata": {},
   "outputs": [],
   "source": []
  }
 ],
 "metadata": {
  "kernelspec": {
   "display_name": "JavaScript (Node.js)",
   "language": "javascript",
   "name": "javascript"
  }
 },
 "nbformat": 4,
 "nbformat_minor": 5
}
