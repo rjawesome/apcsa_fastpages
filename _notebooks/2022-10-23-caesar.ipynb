{
 "cells": [
  {
   "cell_type": "markdown",
   "metadata": {},
   "source": [
    "# Homework - Unit 4\n",
    "> Iteration excersize"
   ]
  },
  {
   "cell_type": "markdown",
   "metadata": {},
   "source": [
    "Here I use a caesar cipher of +3 to decode the messages. Overflow of characters is handled by the modulus operator."
   ]
  },
  {
   "cell_type": "code",
   "execution_count": 7,
   "metadata": {
    "vscode": {
     "languageId": "java"
    }
   },
   "outputs": [
    {
     "name": "stdout",
     "output_type": "stream",
     "text": [
      "nice job!\n",
      "code code code\n",
      "supercalifragilisticexpialidocious\n"
     ]
    }
   ],
   "source": [
    "public class CaesarCipher {\n",
    "\n",
    "  public static String decode (String message) {\n",
    "    String decoded = \"\";\n",
    "    for (int i = 0; i<message.length(); i++) {\n",
    "      if (message.charAt(i) < 'a' || message.charAt(i) > 'z') {\n",
    "        decoded += message.charAt(i);\n",
    "        continue;\n",
    "      }\n",
    "      int letter = message.charAt(i)-'a';\n",
    "      int new_letter = (letter+3)%26;\n",
    "      decoded += (char)(new_letter+'a');\n",
    "    }\n",
    "    return decoded;\n",
    "  }\n",
    "\n",
    "  public static void main(String[] args) {\n",
    "\n",
    "      String message1 = \"kfzb gly!\";\n",
    "      System.out.println(decode(message1));\n",
    "\n",
    "      String message2 = \"zlab zlab zlab\";\n",
    "      System.out.println(decode(message2));\n",
    "\n",
    "      String message3 = \"prmbozxifcoxdfifpqfzbumfxifalzflrp\";\n",
    "      System.out.println(decode(message3));\n",
    "  }\n",
    "}\n",
    "\n",
    "CaesarCipher.main(null);"
   ]
  }
 ],
 "metadata": {
  "kernelspec": {
   "display_name": "Java",
   "language": "java",
   "name": "java"
  },
  "language_info": {
   "codemirror_mode": "java",
   "file_extension": ".jshell",
   "mimetype": "text/x-java-source",
   "name": "Java",
   "pygments_lexer": "java",
   "version": "11.0.14+9-Ubuntu-0ubuntu2.16.04"
  },
  "orig_nbformat": 4
 },
 "nbformat": 4,
 "nbformat_minor": 2
}
