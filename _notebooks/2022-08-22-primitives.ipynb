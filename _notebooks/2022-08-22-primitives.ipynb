{
 "cells": [
  {
   "cell_type": "markdown",
   "metadata": {},
   "source": [
    "# \"Primitives Jupyter Notebook\"\n",
    "> \"about primitives\"\n",
    "\n",
    "- toc:true\n",
    "- branch: master\n",
    "- badges: true\n",
    "- comments: true\n",
    "- author: Rohan Juneja\n",
    "- categories: [fastpages, jupyter]"
   ]
  },
  {
   "cell_type": "markdown",
   "metadata": {},
   "source": [
    "# Class with primitives & wrapper classes\n",
    "This class representing a Human that uses primitive and wrapper-class types"
   ]
  },
  {
   "cell_type": "code",
   "execution_count": 16,
   "metadata": {
    "vscode": {
     "languageId": "java"
    }
   },
   "outputs": [],
   "source": [
    "public class Human {\n",
    "  private double heightIn; //a height can be a decimal\n",
    "  private String name; //name is a sequence of words\n",
    "  private int age; //is a whole nummber\n",
    "  private boolean hasPets; //can either be true or false\n",
    "\n",
    "  public Human (String name) {\n",
    "    this.name = name;\n",
    "  }\n",
    "\n",
    "  public double getHeight () {\n",
    "    return this.heightIn;\n",
    "  }\n",
    "\n",
    "  public void setHeight (double height) {\n",
    "    this.heightIn = height;\n",
    "  }\n",
    "\n",
    "  public String getName () {\n",
    "    return this.name;\n",
    "  }\n",
    "\n",
    "  public int getAge () {\n",
    "    return this.age;\n",
    "  }\n",
    "\n",
    "  public void setAge (int age) {\n",
    "    this.age = age;\n",
    "  }\n",
    "\n",
    "  public boolean getHasPets () {\n",
    "    return this.hasPets;\n",
    "  }\n",
    "\n",
    "  public void setHasPets (boolean hasPets) {\n",
    "    this.hasPets = hasPets;\n",
    "  }\n",
    "\n",
    "  public String getDetails () {\n",
    "    return this.getName() + \" is \" + this.getAge() + \" years old and is \" + this.getHeight() + \" in tall and \" + (this.getHasPets() ? \"does\" : \"doesn't\") + \" have pets.\";\n",
    "  }\n",
    "\n",
    "  public static void main(String[] args) {\n",
    "    Human rohan = new Human(\"Rohan\");\n",
    "    rohan.setHeight(67.25);\n",
    "    rohan.setAge(16);\n",
    "    rohan.setHasPets(false);\n",
    "    System.out.println(rohan.getDetails());\n",
    "  }\n",
    "}"
   ]
  },
  {
   "cell_type": "markdown",
   "metadata": {},
   "source": [
    "Now we can test the code using the ``Human::main`` method"
   ]
  },
  {
   "cell_type": "code",
   "execution_count": 17,
   "metadata": {
    "vscode": {
     "languageId": "java"
    }
   },
   "outputs": [
    {
     "name": "stdout",
     "output_type": "stream",
     "text": [
      "Rohan is 16 years old and is 67.25 in tall and doesn't have pets.\n"
     ]
    }
   ],
   "source": [
    "Human.main(null);"
   ]
  }
 ],
 "metadata": {
  "kernelspec": {
   "display_name": "Java",
   "language": "java",
   "name": "java"
  },
  "language_info": {
   "codemirror_mode": "java",
   "file_extension": ".jshell",
   "mimetype": "text/x-java-source",
   "name": "Java",
   "pygments_lexer": "java",
   "version": "11.0.14+9-Ubuntu-0ubuntu2.16.04"
  },
  "orig_nbformat": 4
 },
 "nbformat": 4,
 "nbformat_minor": 2
}
