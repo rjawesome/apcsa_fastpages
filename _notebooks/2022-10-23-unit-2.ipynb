{
 "cells": [
  {
   "cell_type": "markdown",
   "metadata": {},
   "source": [
    "# CB FRQ - Unit 2\n",
    "> CB FRQ for Unit 2 (1 a/b)"
   ]
  },
  {
   "cell_type": "markdown",
   "metadata": {},
   "source": [
    "Question 1A: Write the WordMatch method scoreGuess. To determine the score to be returned, scoreGuess finds the number of times that guess occurs as asubstring of secret and then multiplies that number by the square of the length of guess.Occurrences of guess may overlap within secret\n",
    "- The main method checks the FRQ returns the correct answers"
   ]
  },
  {
   "cell_type": "code",
   "execution_count": 8,
   "metadata": {
    "vscode": {
     "languageId": "java"
    }
   },
   "outputs": [
    {
     "name": "stdout",
     "output_type": "stream",
     "text": [
      "4\n",
      "18\n",
      "36\n",
      "121\n",
      "\n",
      "4\n",
      "12\n",
      "18\n",
      "16\n",
      "0\n"
     ]
    }
   ],
   "source": [
    "public class WordMatch {\n",
    "  private String secret;\n",
    "\n",
    "  public WordMatch (String word) {\n",
    "    this.secret = word;\n",
    "  }\n",
    "\n",
    "  public int scoreGuess (String guess) {\n",
    "    String word_copy = secret;\n",
    "    int score = 0;\n",
    "    for (int i = 0; i<secret.length(); i++) {\n",
    "      if (word_copy.indexOf(guess) == 0) score++;\n",
    "      word_copy = word_copy.substring(1, word_copy.length());\n",
    "    }\n",
    "    return score*guess.length()*guess.length();\n",
    "  }\n",
    "\n",
    "  public static void main (String[] args) {\n",
    "    WordMatch game1 = new WordMatch(\"mississippi\");\n",
    "    System.out.println(game1.scoreGuess(\"i\"));\n",
    "    System.out.println(game1.scoreGuess(\"iss\"));\n",
    "    System.out.println(game1.scoreGuess(\"issipp\"));\n",
    "    System.out.println(game1.scoreGuess(\"mississippi\"));\n",
    "    System.out.println();\n",
    "    WordMatch game2 = new WordMatch(\"aaaabb\");\n",
    "    System.out.println(game2.scoreGuess(\"a\"));\n",
    "    System.out.println(game2.scoreGuess(\"aa\"));\n",
    "    System.out.println(game2.scoreGuess(\"aaa\"));\n",
    "    System.out.println(game2.scoreGuess(\"aabb\"));\n",
    "    System.out.println(game2.scoreGuess(\"c\"));\n",
    "  }\n",
    "}\n",
    "\n",
    "WordMatch.main(null);"
   ]
  },
  {
   "cell_type": "markdown",
   "metadata": {},
   "source": [
    "Question 1B: Write the WordMatch method findBetterGuess which returns the better guess of its two String parameters, guess1 and guess2. If the scoreGuess method returns different values for guess1 and guess2, then the guess with the higherscore is returned. If the scoreGuess method returns the same value for guess1 andguess2, then the alphabetically greater guess is returned.\n",
    "- The prints check that the FRQ returns the correct answers"
   ]
  },
  {
   "cell_type": "code",
   "execution_count": 13,
   "metadata": {
    "vscode": {
     "languageId": "java"
    }
   },
   "outputs": [
    {
     "name": "stdout",
     "output_type": "stream",
     "text": [
      "nation\n",
      "con\n"
     ]
    }
   ],
   "source": [
    "public class WordMatch {\n",
    "  private String secret;\n",
    "\n",
    "  public WordMatch (String word) {\n",
    "    this.secret = word;\n",
    "  }\n",
    "\n",
    "  public int scoreGuess (String guess) {\n",
    "    String word_copy = secret;\n",
    "    int score = 0;\n",
    "    for (int i = 0; i<secret.length(); i++) {\n",
    "      if (word_copy.indexOf(guess) == 0) score++;\n",
    "      word_copy = word_copy.substring(1, word_copy.length());\n",
    "    }\n",
    "    return score*guess.length()*guess.length();\n",
    "  }\n",
    "\n",
    "  public String findBetterGuess (String guess1, String guess2) {\n",
    "    int score1 = scoreGuess(guess1);\n",
    "    int score2 = scoreGuess(guess2);\n",
    "    if (score1 > score2) return guess1;\n",
    "    if (score1 < score2) return guess2;\n",
    "    return (guess1.compareTo(guess2) > 0 ? guess1 : guess2);\n",
    "  }\n",
    "\n",
    "  public static void main (String[] args) {\n",
    "    WordMatch game1 = new WordMatch(\"concatenation\");\n",
    "    System.out.println(game1.findBetterGuess(\"ten\", \"nation\"));\n",
    "    System.out.println(game1.findBetterGuess(\"con\", \"cat\"));\n",
    "  }\n",
    "}\n",
    "\n",
    "WordMatch.main(null);"
   ]
  }
 ],
 "metadata": {
  "kernelspec": {
   "display_name": "Java",
   "language": "java",
   "name": "java"
  },
  "language_info": {
   "codemirror_mode": "java",
   "file_extension": ".jshell",
   "mimetype": "text/x-java-source",
   "name": "Java",
   "pygments_lexer": "java",
   "version": "11.0.14+9-Ubuntu-0ubuntu2.16.04"
  },
  "orig_nbformat": 4
 },
 "nbformat": 4,
 "nbformat_minor": 2
}
