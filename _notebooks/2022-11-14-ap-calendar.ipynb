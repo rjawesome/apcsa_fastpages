{
 "cells": [
  {
   "cell_type": "markdown",
   "metadata": {},
   "source": [
    "# \"AP Calendar\"\n",
    "> Parts a/b from 2019 FRQ #1\n",
    "\n",
    "- toc:true\n",
    "- branch: master\n",
    "- badges: true\n",
    "- comments: true\n",
    "- author: Rohan Juneja\n",
    "- categories: [cb]"
   ]
  },
  {
   "cell_type": "markdown",
   "metadata": {},
   "source": [
    "# AP Calendar Code\n",
    "\n",
    "This code answers parts a/b of FRQ from 2019. In addition, the methods marked \"no implementation shown\" were implemented so this could be used in a Spring project and properly function. This code featured heavy use of if statements and for loops as control structures as well as definining and using methods to complete the tasks layed out."
   ]
  },
  {
   "cell_type": "code",
   "execution_count": 4,
   "metadata": {
    "vscode": {
     "languageId": "java"
    }
   },
   "outputs": [],
   "source": [
    "public class APCalendar {\n",
    "  private static int firstDayOf1970 = 4;\n",
    "\n",
    "  /** Returns true if year is a leap year and false otherwise.\n",
    "   * isLeapYear(2019) returns False\n",
    "   * isLeapYear(2016) returns True\n",
    "   */          \n",
    "  private static boolean isLeapYear(int year) {\n",
    "      if (year % 400 == 0) return true;\n",
    "      if (year % 100 == 0) return false;\n",
    "      if (year % 4 == 0) return true;\n",
    "      return false;\n",
    "  }\n",
    "      \n",
    "  /** Returns the value representing the day of the week \n",
    "   * 0 denotes Sunday, \n",
    "   * 1 denotes Monday, ..., \n",
    "   * 6 denotes Saturday. \n",
    "   * firstDayOfYear(2019) returns 2 for Tuesday.\n",
    "  */\n",
    "  private static int firstDayOfYear(int year) {\n",
    "      int day = firstDayOf1970;\n",
    "      for (int i = 1970; i<year; i++) {\n",
    "          if (isLeapYear(i)) day = (day + (366 % 7)) % 7;\n",
    "          else day = (day + (365 % 7)) % 7;\n",
    "      }\n",
    "\n",
    "      return day;\n",
    "  }\n",
    "\n",
    "\n",
    "  /** Returns n, where month, day, and year specify the nth day of the year.\n",
    "   * This method accounts for whether year is a leap year. \n",
    "   * dayOfYear(1, 1, 2019) return 1\n",
    "   * dayOfYear(3, 1, 2017) returns 60, since 2017 is not a leap year\n",
    "   * dayOfYear(3, 1, 2016) returns 61, since 2016 is a leap year. \n",
    "  */ \n",
    "  private static int dayOfYear(int month, int day, int year) {\n",
    "      // base case\n",
    "      if (month == 1) {\n",
    "          return Math.min(day, 31);\n",
    "      }\n",
    "      \n",
    "      // february\n",
    "      if (month == 2) {\n",
    "          return Math.min(day, 28 + (isLeapYear(year) ? 1 : 0)) + dayOfYear(month-1, 50, year);\n",
    "      }\n",
    "      \n",
    "      // 31 day months\n",
    "      if (month == 2 || month == 4 || month == 6 || month == 7 || month == 9 || month == 11) {\n",
    "          return Math.min(day, 31) + dayOfYear(month-1, 50, year);\n",
    "      }\n",
    "      \n",
    "      // 30 day months\n",
    "      return Math.min(day, 30) + dayOfYear(month-1, 50, year);\n",
    "  }\n",
    "\n",
    "  /** Returns the number of leap years between year1 and year2, inclusive.\n",
    "   * Precondition: 0 <= year1 <= year2\n",
    "  */ \n",
    "  public static int numberOfLeapYears(int year1, int year2) {\n",
    "      int LeapYearAmount = 0;  // defines the variable we're using to count the leap year amount\n",
    "      for (int year = year1; year <= year2; year++) { // for each year between year 1 and year 2\n",
    "          if (isLeapYear(year)) { // if the year is a leap year, add one to the count\n",
    "              LeapYearAmount+=1;\n",
    "          }\n",
    "      }\n",
    "      return LeapYearAmount;\n",
    "  }\n",
    "\n",
    "  /** Returns the value representing the day of the week for the given date\n",
    "   * Precondition: The date represented by month, day, year is a valid date.\n",
    "  */\n",
    "  public static int dayOfWeek(int month, int day, int year) { \n",
    "      int DayFirst = firstDayOfYear(year); // finds what the first day of the year is for the given year\n",
    "      int DaysAfter = dayOfYear(month, day, year); // finds how many days after the start of the year\n",
    "      int CalculatedDay = (DayFirst + DaysAfter - 1); // adds the amount to the first day and subtracts 1\n",
    "      int DayWeekReturn = CalculatedDay % 7; // changes from a number to a value 0-6 that gives the day of the week\n",
    "      return DayWeekReturn; // returns the day of the week\n",
    "  }\n",
    "\n",
    "  /** Tester method */\n",
    "  public static void main(String[] args) {\n",
    "      // Private access modifiers\n",
    "      System.out.println(\"isLeapYear (2022): \" + APCalendar.isLeapYear(2022));\n",
    "      System.out.println(\"firstDayOfYear (2022): \" + APCalendar.firstDayOfYear(2022));\n",
    "      System.out.println(\"firstDayOfYear (2019): \" + APCalendar.firstDayOfYear(2019));\n",
    "      System.out.println(\"dayOfYear (1/1/2022): \" + APCalendar.dayOfYear(1, 1, 2022));\n",
    "      System.out.println(\"dayOfYear (3/1/2016): \" + APCalendar.dayOfYear(3, 1, 2016));\n",
    "      System.out.println(\"dayOfYear (3/1/2017): \" + APCalendar.dayOfYear(3, 1, 2017));\n",
    "\n",
    "      // Public access modifiers\n",
    "      System.out.println(\"numberOfLeapYears (2000-2022): \" + APCalendar.numberOfLeapYears(2000, 2022));\n",
    "      System.out.println(\"dayOfWeek (1/1/2022): \" + APCalendar.dayOfWeek(1, 1, 2022));\n",
    "      System.out.println(\"dayOfWeek (1/10/2019): \" + APCalendar.dayOfWeek(1, 10, 2019));\n",
    "  }\n",
    "\n",
    "}"
   ]
  },
  {
   "cell_type": "code",
   "execution_count": 5,
   "metadata": {
    "vscode": {
     "languageId": "java"
    }
   },
   "outputs": [
    {
     "name": "stdout",
     "output_type": "stream",
     "text": [
      "isLeapYear (2022): false\n",
      "firstDayOfYear (2022): 6\n",
      "firstDayOfYear (2019): 2\n",
      "dayOfYear (1/1/2022): 1\n",
      "dayOfYear (3/1/2016): 61\n",
      "dayOfYear (3/1/2017): 60\n",
      "numberOfLeapYears (2000-2022): 6\n",
      "dayOfWeek (1/1/2022): 6\n",
      "dayOfWeek (1/10/2019): 4\n"
     ]
    }
   ],
   "source": [
    "APCalendar.main(null);"
   ]
  }
 ],
 "metadata": {
  "kernelspec": {
   "display_name": "Java",
   "language": "java",
   "name": "java"
  },
  "language_info": {
   "codemirror_mode": "java",
   "file_extension": ".jshell",
   "mimetype": "text/x-java-source",
   "name": "Java",
   "pygments_lexer": "java",
   "version": "11.0.14+9-Ubuntu-0ubuntu2.16.04"
  },
  "orig_nbformat": 4
 },
 "nbformat": 4,
 "nbformat_minor": 2
}
