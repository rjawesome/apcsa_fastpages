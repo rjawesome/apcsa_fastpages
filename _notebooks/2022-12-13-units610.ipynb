{
 "cells": [
  {
   "attachments": {},
   "cell_type": "markdown",
   "metadata": {},
   "source": [
    "# Units 6-10 Jupyter Notebook\n",
    "> Notes and code on units 6-10\n",
    "- categories: [cb]\n",
    "- toc: true"
   ]
  },
  {
   "attachments": {},
   "cell_type": "markdown",
   "metadata": {},
   "source": [
    "# Homeworks\n",
    "- [Unit 6: .9/1](https://docs.google.com/spreadsheets/d/1TxKpL7eNeWgucA9nHNBuJ54PQGQcHuBUn-bU38verNk/edit#gid=0)\n",
    "- [Unit 7: 1/1](https://github.com/rjawesome/CSASpringTri2/issues/10)\n",
    "- [Unit 8: .9/1](https://akhilnandhakumar.github.io/fastpages-team-coders/2022/12/14/grading.html)\n",
    "- [Unit 9: .95/1](https://horizon-ab.github.io/congenial-tribble/jupyter/college%20board/2022/12/13/unit9inheritance.html)\n",
    "- [Unit 10: 1/1](https://hetvit27.github.io/hetvitrivedi/collegeboard/2022/12/06/Recursion.html)\n",
    "- Unit 10 was probably the best homework because it had creativity and you could choose what type of recursion to show your knowledge\n",
    "- Total: 4.75/5"
   ]
  },
  {
   "attachments": {},
   "cell_type": "markdown",
   "metadata": {},
   "source": [
    "# Unit 6: Arrays\n",
    "- Arrays are important to store a \"list\" of data in the same type\n",
    "- Watch out for errors: especially ArrayIndexOutOfBoundsException\n",
    "- Important to know algorithms with arrays -> using for loops\n",
    "  - Enhanced for loops can be utilized but has limitations\n",
    "  - Algorithms can be like finding max, min, average, sorting, etc.\n"
   ]
  },
  {
   "attachments": {},
   "cell_type": "markdown",
   "metadata": {},
   "source": [
    "## Algorithm for arrays\n",
    "- Many algorithms can be done using for loops in combinations with arrays\n",
    "- Here is an algorithm example of counting numbers that multiples of 5 but not 3"
   ]
  },
  {
   "cell_type": "code",
   "execution_count": 1,
   "metadata": {
    "vscode": {
     "languageId": "java"
    }
   },
   "outputs": [
    {
     "name": "stdout",
     "output_type": "stream",
     "text": [
      "5\n",
      "10\n"
     ]
    }
   ],
   "source": [
    "int[] array = {1, 2, 3, 4, 5, 10, 15};\n",
    "\n",
    "for (int num : array) {\n",
    "  if (num % 5 == 0 && num % 3 != 0) {\n",
    "    System.out.println(num);\n",
    "  }\n",
    "}\n"
   ]
  },
  {
   "attachments": {},
   "cell_type": "markdown",
   "metadata": {},
   "source": [
    "# Unit 7: ArrayList\n",
    "- An arraylist is like an array but the length can be changed\n",
    "- For arraylists you must use a wrapper class rather than a primitive\n",
    "  - Due to arraylist using generics\n",
    "- Arraylists can also work with enhanced for loops and have many convenient functions"
   ]
  },
  {
   "attachments": {},
   "cell_type": "markdown",
   "metadata": {},
   "source": [
    "## Wrapper Classes\n",
    "- Must be used with arraylist for primitives, usually a capital version\n",
    "- Java can automatically convert between wrappers and primitives"
   ]
  },
  {
   "cell_type": "code",
   "execution_count": 3,
   "metadata": {
    "vscode": {
     "languageId": "java"
    }
   },
   "outputs": [
    {
     "name": "stdout",
     "output_type": "stream",
     "text": [
      "[10, 1]\n"
     ]
    }
   ],
   "source": [
    "// using \"Integer\" wrapper class\n",
    "ArrayList<Integer> listOfIntegers = new ArrayList<>();\n",
    "\n",
    "// Explicitly creating integer\n",
    "listOfIntegers.add(new Integer(10));\n",
    "\n",
    "// automatically converts to Integer\n",
    "listOfIntegers.add(1);\n",
    "\n",
    "// using toString method of ArrayList\n",
    "System.out.println(listOfIntegers);"
   ]
  },
  {
   "attachments": {},
   "cell_type": "markdown",
   "metadata": {},
   "source": [
    "# Unit 8: 2D Arrays\n",
    "- Arrays can be placed inside arrays, creating 2D array\n",
    "  - Useful for representing 2d space, or text (as 2d)\n",
    "- Defined by using two pairs of square brackets after the type\n",
    "- Can be traversed using nested for loops"
   ]
  },
  {
   "attachments": {},
   "cell_type": "markdown",
   "metadata": {},
   "source": [
    "## Nested For loops\n",
    "- Concept of putting one for loop inside another\n",
    "- Really useful for traversing 2d arrays"
   ]
  },
  {
   "cell_type": "code",
   "execution_count": 4,
   "metadata": {
    "vscode": {
     "languageId": "java"
    }
   },
   "outputs": [
    {
     "name": "stdout",
     "output_type": "stream",
     "text": [
      "1 2 3 \n",
      "4 5 6 7 \n",
      "8 9 10 \n"
     ]
    }
   ],
   "source": [
    "// defining 2d array\n",
    "int[][] arr2d = {\n",
    "  {1, 2, 3},\n",
    "  {4, 5, 6, 7},\n",
    "  {8, 9, 10}\n",
    "};\n",
    "\n",
    "// using nested for loops\n",
    "for (int[] row : arr2d) {\n",
    "  for (int val : row) {\n",
    "    System.out.print(val + \" \");\n",
    "  }\n",
    "  System.out.println();\n",
    "}"
   ]
  },
  {
   "attachments": {},
   "cell_type": "markdown",
   "metadata": {},
   "source": [
    "# Unit 9: Inheritance\n",
    "- Inheritance can be used when two classes share similar functionality\n",
    "  - Allows super class to have base functionality (ie. car)\n",
    "  - Sub class adds additional functionality to the base (ie. tesla car)\n",
    "- \"extends\" and \"abstract\" keywords can be used to define inheritance in Java"
   ]
  },
  {
   "attachments": {},
   "cell_type": "markdown",
   "metadata": {},
   "source": [
    "## Extends key word\n",
    "- Defines a sub class that inherits all the methods from the super class\n",
    "- Useful because you don't need to redefine everything from super class"
   ]
  },
  {
   "cell_type": "code",
   "execution_count": 13,
   "metadata": {
    "vscode": {
     "languageId": "java"
    }
   },
   "outputs": [
    {
     "name": "stdout",
     "output_type": "stream",
     "text": [
      "hello, I am green and I am 2 years old.\n",
      "My owner is joe\n"
     ]
    }
   ],
   "source": [
    "public class Animal {\n",
    "  String color;\n",
    "  int age;\n",
    "\n",
    "  public Animal () {}\n",
    "\n",
    "  public Animal (String color, int age) {\n",
    "    this.color = color;\n",
    "    this.age = age;\n",
    "  }\n",
    "\n",
    "  public void sayHello () {\n",
    "    System.out.println(\"hello, I am \" + color + \" and I am \" + age + \" years old.\");\n",
    "  }\n",
    "\n",
    "  public void walk () {\n",
    "    System.out.println(\"walking...\");\n",
    "  }\n",
    "\n",
    "  public void eat () {\n",
    "    System.out.println(\"eating\");\n",
    "  }\n",
    "}\n",
    "\n",
    "public class Cat extends Animal {\n",
    "  String owner;\n",
    "\n",
    "  public Cat (String color, int age, String owner) {\n",
    "    this.color = color;\n",
    "    this.age = age;\n",
    "    this.owner = owner;\n",
    "  }\n",
    "\n",
    "  public void sayOwner () {\n",
    "    System.out.println(\"my owner is \" + owner);\n",
    "  }\n",
    "}\n",
    "\n",
    "Cat c = new Cat(\"green\", 2, \"joe\");\n",
    "\n",
    "// using method from parent class\n",
    "c.sayHello();\n",
    "// using method from child class\n",
    "c.sayOwner();\n",
    "\n"
   ]
  },
  {
   "attachments": {},
   "cell_type": "markdown",
   "metadata": {},
   "source": [
    "## Subclass constructor, super Keyword\n",
    "- The constructor in a subclass can use \"super\" to access the parent class constructor\n",
    "- \"super\" can also be used to access parent class methods"
   ]
  },
  {
   "cell_type": "code",
   "execution_count": 14,
   "metadata": {
    "vscode": {
     "languageId": "java"
    }
   },
   "outputs": [
    {
     "name": "stdout",
     "output_type": "stream",
     "text": [
      "hello, I am green and I am 2 years old.\n",
      "my owner is joe\n"
     ]
    }
   ],
   "source": [
    "public class Animal {\n",
    "  String color;\n",
    "  int age;\n",
    "\n",
    "  public Animal () {}\n",
    "\n",
    "  public Animal (String color, int age) {\n",
    "    this.color = color;\n",
    "    this.age = age;\n",
    "  }\n",
    "\n",
    "  public void sayHello () {\n",
    "    System.out.println(\"hello, I am \" + color + \" and I am \" + age + \" years old.\");\n",
    "  }\n",
    "\n",
    "  public void walk () {\n",
    "    System.out.println(\"walking...\");\n",
    "  }\n",
    "\n",
    "  public void eat () {\n",
    "    System.out.println(\"eating\");\n",
    "  }\n",
    "}\n",
    "\n",
    "public class Cat extends Animal {\n",
    "  String owner;\n",
    "\n",
    "  public Cat (String color, int age, String owner) {\n",
    "    // reduce code duplication\n",
    "    super(color, age);\n",
    "    this.owner = owner;\n",
    "  }\n",
    "\n",
    "  public void sayOwner () {\n",
    "    System.out.println(\"my owner is \" + owner);\n",
    "  }\n",
    "\n",
    "  public void sayOwnerAndHello() {\n",
    "    super.sayHello();\n",
    "    sayOwner();\n",
    "  }\n",
    "}\n",
    "\n",
    "Cat c = new Cat(\"green\", 2, \"joe\");\n",
    "\n",
    "c.sayOwnerAndHello();"
   ]
  },
  {
   "attachments": {},
   "cell_type": "markdown",
   "metadata": {},
   "source": [
    "## Overriding (part of Polymorphism)\n",
    "- Allows you to define a method in the parent class, but then change it in child class\n",
    "- Really useful to change functionality in child class"
   ]
  },
  {
   "cell_type": "code",
   "execution_count": 16,
   "metadata": {
    "vscode": {
     "languageId": "java"
    }
   },
   "outputs": [
    {
     "name": "stdout",
     "output_type": "stream",
     "text": [
      "hello, I am green and I am 2 years old.\n",
      "meow...\n",
      "hello, I am blue and I am 3 years old.\n"
     ]
    }
   ],
   "source": [
    "public class Animal {\n",
    "  String color;\n",
    "  int age;\n",
    "\n",
    "  public Animal () {}\n",
    "\n",
    "  public Animal (String color, int age) {\n",
    "    this.color = color;\n",
    "    this.age = age;\n",
    "  }\n",
    "\n",
    "  public void sayHello () {\n",
    "    System.out.println(\"hello, I am \" + color + \" and I am \" + age + \" years old.\");\n",
    "  }\n",
    "\n",
    "  public void walk () {\n",
    "    System.out.println(\"walking...\");\n",
    "  }\n",
    "\n",
    "  public void eat () {\n",
    "    System.out.println(\"eating\");\n",
    "  }\n",
    "}\n",
    "\n",
    "public class Cat extends Animal {\n",
    "  String owner;\n",
    "\n",
    "  public Cat (String color, int age, String owner) {\n",
    "    // reduce code duplication\n",
    "    super(color, age);\n",
    "    this.owner = owner;\n",
    "  }\n",
    "\n",
    "  public void sayOwner () {\n",
    "    System.out.println(\"my owner is \" + owner);\n",
    "  }\n",
    "\n",
    "  // Adding more functionality in say hello for cat\n",
    "  @Override\n",
    "  public void sayHello() {\n",
    "    super.sayHello();\n",
    "    System.out.println(\"meow...\");\n",
    "  }\n",
    "}\n",
    "\n",
    "// Cat uses cat method\n",
    "Cat c = new Cat(\"green\", 2, \"joe\");\n",
    "c.sayHello();\n",
    "\n",
    "// Animal uses animal method\n",
    "Animal a = new Animal(\"blue\", 3);\n",
    "a.sayHello();"
   ]
  },
  {
   "attachments": {},
   "cell_type": "markdown",
   "metadata": {},
   "source": [
    "## Abstract Class, Abstract Method\n",
    "- Abstract class means a class cannot be instantiated, it is simply a template\n",
    "- Abstract methods define the signature but the method must be implemented in child class\n",
    "- For example, lets say we don't want an animal to be created..."
   ]
  },
  {
   "cell_type": "code",
   "execution_count": 17,
   "metadata": {
    "vscode": {
     "languageId": "java"
    }
   },
   "outputs": [
    {
     "name": "stdout",
     "output_type": "stream",
     "text": [
      "meow...\n"
     ]
    }
   ],
   "source": [
    "abstract class Animal {\n",
    "  String color;\n",
    "  int age;\n",
    "\n",
    "  public Animal () {}\n",
    "\n",
    "  public Animal (String color, int age) {\n",
    "    this.color = color;\n",
    "    this.age = age;\n",
    "  }\n",
    "\n",
    "  // must be defined in child class\n",
    "  abstract void sayHello ();\n",
    "\n",
    "  public void walk () {\n",
    "    System.out.println(\"walking...\");\n",
    "  }\n",
    "\n",
    "  public void eat () {\n",
    "    System.out.println(\"eating\");\n",
    "  }\n",
    "}\n",
    "\n",
    "public class Cat extends Animal {\n",
    "  String owner;\n",
    "\n",
    "  public Cat (String color, int age, String owner) {\n",
    "    // reduce code duplication\n",
    "    super(color, age);\n",
    "    this.owner = owner;\n",
    "  }\n",
    "\n",
    "  public void sayOwner () {\n",
    "    System.out.println(\"my owner is \" + owner);\n",
    "  }\n",
    "\n",
    "  // Defining method that was abstract\n",
    "  @Override\n",
    "  public void sayHello() {\n",
    "    System.out.println(\"meow...\");\n",
    "  }\n",
    "}\n",
    "\n",
    "// Cat uses cat method\n",
    "Cat c = new Cat(\"green\", 2, \"joe\");\n",
    "c.sayHello();"
   ]
  },
  {
   "attachments": {},
   "cell_type": "markdown",
   "metadata": {},
   "source": [
    "## Late binding of object (part of polymorphism)\n",
    "- Allows you to use the type of a superclass but have an object of the subclass\n",
    "- Useful if you know it will be part of the superclass, but don't know which subclass it is\n",
    "  - I know it is an animal but I don't know which type\n",
    "- Works well with abstract methods"
   ]
  },
  {
   "cell_type": "code",
   "execution_count": 18,
   "metadata": {
    "vscode": {
     "languageId": "java"
    }
   },
   "outputs": [
    {
     "name": "stdout",
     "output_type": "stream",
     "text": [
      "meow...\n"
     ]
    }
   ],
   "source": [
    "abstract class Animal {\n",
    "  String color;\n",
    "  int age;\n",
    "\n",
    "  public Animal () {}\n",
    "\n",
    "  public Animal (String color, int age) {\n",
    "    this.color = color;\n",
    "    this.age = age;\n",
    "  }\n",
    "\n",
    "  // must be defined in child class\n",
    "  abstract void sayHello ();\n",
    "\n",
    "  public void walk () {\n",
    "    System.out.println(\"walking...\");\n",
    "  }\n",
    "\n",
    "  public void eat () {\n",
    "    System.out.println(\"eating\");\n",
    "  }\n",
    "}\n",
    "\n",
    "public class Cat extends Animal {\n",
    "  String owner;\n",
    "\n",
    "  public Cat (String color, int age, String owner) {\n",
    "    // reduce code duplication\n",
    "    super(color, age);\n",
    "    this.owner = owner;\n",
    "  }\n",
    "\n",
    "  public void sayOwner () {\n",
    "    System.out.println(\"my owner is \" + owner);\n",
    "  }\n",
    "\n",
    "  // Defining method that was abstract\n",
    "  @Override\n",
    "  public void sayHello() {\n",
    "    System.out.println(\"meow...\");\n",
    "  }\n",
    "}\n",
    "\n",
    "// Defining cat as an animal!\n",
    "Animal c = new Cat(\"green\", 2, \"joe\");\n",
    "\n",
    "// can use because abstract method guarentees implentation in child class\n",
    "c.sayHello();"
   ]
  },
  {
   "attachments": {},
   "cell_type": "markdown",
   "metadata": {},
   "source": [
    "## Overloading (part of polymorphism)\n",
    "- Allows you to have a method, but different sets of arguments\n",
    "- The method which is called is determined at compile time (early binding) based on the arguments passed in"
   ]
  },
  {
   "cell_type": "code",
   "execution_count": 19,
   "metadata": {
    "vscode": {
     "languageId": "java"
    }
   },
   "outputs": [
    {
     "name": "stdout",
     "output_type": "stream",
     "text": [
      "meow...\n",
      "meow... hello mark\n"
     ]
    }
   ],
   "source": [
    "abstract class Animal {\n",
    "  String color;\n",
    "  int age;\n",
    "\n",
    "  public Animal () {}\n",
    "\n",
    "  public Animal (String color, int age) {\n",
    "    this.color = color;\n",
    "    this.age = age;\n",
    "  }\n",
    "\n",
    "  // must be defined in child class\n",
    "  abstract void sayHello ();\n",
    "\n",
    "  public void walk () {\n",
    "    System.out.println(\"walking...\");\n",
    "  }\n",
    "\n",
    "  public void eat () {\n",
    "    System.out.println(\"eating\");\n",
    "  }\n",
    "}\n",
    "\n",
    "public class Cat extends Animal {\n",
    "  String owner;\n",
    "\n",
    "  public Cat (String color, int age, String owner) {\n",
    "    // reduce code duplication\n",
    "    super(color, age);\n",
    "    this.owner = owner;\n",
    "  }\n",
    "\n",
    "  public void sayOwner () {\n",
    "    System.out.println(\"my owner is \" + owner);\n",
    "  }\n",
    "\n",
    "  // Defining method that was abstract\n",
    "  @Override\n",
    "  public void sayHello() {\n",
    "    System.out.println(\"meow...\");\n",
    "  }\n",
    "\n",
    "  // same method with different arguments\n",
    "  public void sayHello(String person) {\n",
    "    System.out.println(\"meow... hello \" + person);\n",
    "  }\n",
    "}\n",
    "\n",
    "Cat c = new Cat(\"green\", 2, \"joe\");\n",
    "\n",
    "// two different argument sets for same method\n",
    "c.sayHello();\n",
    "c.sayHello(\"mark\")"
   ]
  },
  {
   "attachments": {},
   "cell_type": "markdown",
   "metadata": {},
   "source": [
    "## Standard methods: toString(), equals(), hashCode()\n",
    "- All objects automatically inherit from Object class and have some methods\n",
    "  - toString should list properties, equals should compare properties, hashCode should give unique identifier"
   ]
  },
  {
   "cell_type": "code",
   "execution_count": 20,
   "metadata": {
    "vscode": {
     "languageId": "java"
    }
   },
   "outputs": [
    {
     "name": "stdout",
     "output_type": "stream",
     "text": [
      "[Cat]: color=green, age=2, owner=joe\n"
     ]
    }
   ],
   "source": [
    "abstract class Animal {\n",
    "  String color;\n",
    "  int age;\n",
    "\n",
    "  public Animal () {}\n",
    "\n",
    "  public Animal (String color, int age) {\n",
    "    this.color = color;\n",
    "    this.age = age;\n",
    "  }\n",
    "\n",
    "  // must be defined in child class\n",
    "  abstract void sayHello ();\n",
    "\n",
    "  public void walk () {\n",
    "    System.out.println(\"walking...\");\n",
    "  }\n",
    "\n",
    "  public void eat () {\n",
    "    System.out.println(\"eating\");\n",
    "  }\n",
    "}\n",
    "\n",
    "public class Cat extends Animal {\n",
    "  String owner;\n",
    "\n",
    "  public Cat (String color, int age, String owner) {\n",
    "    // reduce code duplication\n",
    "    super(color, age);\n",
    "    this.owner = owner;\n",
    "  }\n",
    "\n",
    "  public void sayOwner () {\n",
    "    System.out.println(\"my owner is \" + owner);\n",
    "  }\n",
    "\n",
    "  // Defining method that was abstract\n",
    "  @Override\n",
    "  public void sayHello() {\n",
    "    System.out.println(\"meow...\");\n",
    "  }\n",
    "\n",
    "  // same method with different arguments\n",
    "  public void sayHello(String person) {\n",
    "    System.out.println(\"meow... hello \" + person);\n",
    "  }\n",
    "\n",
    "  // Overriding the to string\n",
    "  @Override\n",
    "  public String toString () {\n",
    "    return \"[Cat]: \" + \"color=\" + color + \", \" + \"age=\" + age + \", \" + \"owner=\" + owner;\n",
    "  }\n",
    "}\n",
    "\n",
    "// Object superclass is automatically inherited\n",
    "Object c = new Cat(\"green\", 2, \"joe\");\n",
    "\n",
    "// System.out.println uses toString method internally\n",
    "System.out.println(c);"
   ]
  },
  {
   "attachments": {},
   "cell_type": "markdown",
   "metadata": {},
   "source": [
    "# Unit 10: Recursion\n",
    "- Recusion can be used in situations where you need to repeatedly do something, instead of loops\n",
    "- Recursion must call itself and have a base case\n",
    "  - Base case allows the recursion to end at some point"
   ]
  },
  {
   "attachments": {},
   "cell_type": "markdown",
   "metadata": {},
   "source": [
    "## Big O Notation\n",
    "- Used to describe the most time it would take for a function to run (without constants)\n",
    "- For example, the recursion below would take O(n) time as it has to go through n iterations to calculate the factorial"
   ]
  },
  {
   "cell_type": "code",
   "execution_count": 21,
   "metadata": {
    "vscode": {
     "languageId": "java"
    }
   },
   "outputs": [
    {
     "name": "stdout",
     "output_type": "stream",
     "text": [
      "120\n"
     ]
    }
   ],
   "source": [
    "public int factorial (int n) {\n",
    "  if (n == 0 || n == 1) {\n",
    "    return 1;\n",
    "  }\n",
    "  return n * factorial(n-1);\n",
    "}\n",
    "\n",
    "System.out.println(factorial(5));"
   ]
  }
 ],
 "metadata": {
  "kernelspec": {
   "display_name": "Java",
   "language": "java",
   "name": "java"
  },
  "language_info": {
   "codemirror_mode": "java",
   "file_extension": ".jshell",
   "mimetype": "text/x-java-source",
   "name": "Java",
   "pygments_lexer": "java",
   "version": "17-ea+11-Ubuntu-116.042"
  },
  "orig_nbformat": 4
 },
 "nbformat": 4,
 "nbformat_minor": 2
}
