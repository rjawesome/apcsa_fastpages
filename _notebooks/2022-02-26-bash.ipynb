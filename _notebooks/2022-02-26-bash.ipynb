{
 "cells": [
  {
   "cell_type": "markdown",
   "metadata": {},
   "source": [
    "# Bash Installer/Checker\n",
    "> This bash script checks all installations and installs programs if they are missing"
   ]
  },
  {
   "cell_type": "markdown",
   "metadata": {},
   "source": [
    "# Bash CSA Installer\n",
    "This program checks for all installations necessary for CSA and installs them if necessary. Also checks for program versions if old versions cause issues (ie. java)."
   ]
  },
  {
   "cell_type": "code",
   "execution_count": 6,
   "metadata": {
    "vscode": {
     "languageId": "shellscript"
    }
   },
   "outputs": [
    {
     "name": "stdout",
     "output_type": "stream",
     "text": [
      "Welcome to CSA Installer. Note that installations may require sudo permissions & password to be entered\n",
      "Anaconda installed\n",
      "Python 3 installed\n",
      "Python 2 installed\n",
      "Java installed with Version 11 or Better\n",
      "Jupyter installed\n",
      "Bash Kernel Installed\n",
      "Java Kernel Installed\n"
     ]
    }
   ],
   "source": [
    "echo \"Welcome to CSA Installer. Note that installations may require sudo permissions & password to be entered\"\n",
    "\n",
    "# make sure in home directory of user\n",
    "cd ~\n",
    "\n",
    "# check anaconda installation\n",
    "if command -v anaconda >/dev/null; then\n",
    "  echo \"Anaconda installed\"\n",
    "else\n",
    "  echo \"Installing Anaconda\"\n",
    "  wget https://repo.anaconda.com/archive/Anaconda3-2022.05-Linux-x86_64.sh\n",
    "  ./Anaconda3-2022.05-Linux-x86_64.sh\n",
    "fi\n",
    "\n",
    "# check python 3 installation\n",
    "if python3 --version | grep \"Python 3\" >/dev/null; then\n",
    "  echo \"Python 3 installed\"\n",
    "else\n",
    "  echo \"Installing Python 3\"\n",
    "  sudo apt install python3 python3-pip\n",
    "fi\n",
    "\n",
    "# check python 2 installation\n",
    "if python2 --version 2>&1 | grep \"Python 2\" >/dev/null; then\n",
    "  echo \"Python 2 installed\"\n",
    "else\n",
    "  echo \"Installing Python 2\"\n",
    "  sudo apt install python2\n",
    "fi\n",
    "\n",
    "#check java installation and java version\n",
    "java_version=`java --version | head -n 1 | awk -F \" \" '{print $2}' | awk -F \".\" '{print $1}'`\n",
    "if [[ $java_version -ge 11 ]]; then\n",
    "  echo \"Java installed with Version 11 or Better\"\n",
    "else\n",
    "  echo \"Installing Java Version 11 (Version too low or Java not installed)\"\n",
    "  sudo add-apt-repository ppa:openjdk-r/ppa \n",
    "  sudo apt update\n",
    "  sudo apt install openjdk-11-jdk\n",
    "fi\n",
    "\n",
    "#check jupyter installation\n",
    "if [[ -f ~/anaconda3/bin/jupyter  ]]; then\n",
    "  echo \"Jupyter installed\"\n",
    "else\n",
    "  echo \"Installing jupyter\"\n",
    "  ~/anaconda3/bin/conda install jupyter\n",
    "fi\n",
    "\n",
    "#check bash kernel installation\n",
    "if ~/anaconda3/bin/jupyter kernelspec list | grep bash >/dev/null; then\n",
    "  echo \"Bash Kernel Installed\"\n",
    "else\n",
    "  echo \"Installing Bash Kernel\"\n",
    "  pip3 install bash_kernel\n",
    "  python3 -m bash_kernel.install\n",
    "fi\n",
    "\n",
    "#check java kernel installation\n",
    "if ~/anaconda3/bin/jupyter kernelspec list | grep java >/dev/null; then\n",
    "  echo \"Java Kernel Installed\"\n",
    "else\n",
    "  echo \"Installing Java Kernel\"\n",
    "  wget https://github.com/SpencerPark/IJava/releases/download/v1.3.0/ijava-1.3.0.zip\n",
    "  unzip ijava-1.3.0.zip\n",
    "  python3 install.py --user\n",
    "fi"
   ]
  }
 ],
 "metadata": {
  "kernelspec": {
   "display_name": "Bash",
   "language": "bash",
   "name": "bash"
  },
  "language_info": {
   "codemirror_mode": "shell",
   "file_extension": ".sh",
   "mimetype": "text/x-sh",
   "name": "bash"
  },
  "orig_nbformat": 4
 },
 "nbformat": 4,
 "nbformat_minor": 2
}
