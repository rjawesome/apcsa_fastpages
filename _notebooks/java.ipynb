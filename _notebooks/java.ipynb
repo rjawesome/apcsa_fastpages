{
 "cells": [
  {
   "cell_type": "code",
   "execution_count": null,
   "id": "f0aadd6a",
   "metadata": {},
   "outputs": [],
   "source": [
    "System.out.println(\"hello\");"
   ]
  },
  {
   "cell_type": "code",
   "execution_count": null,
   "id": "02766c47",
   "metadata": {},
   "outputs": [],
   "source": []
  },
  {
   "cell_type": "code",
   "execution_count": null,
   "id": "2e1f7307",
   "metadata": {},
   "outputs": [],
   "source": []
  }
 ],
 "metadata": {
  "kernelspec": {
   "display_name": "Java",
   "language": "java",
   "name": "java"
  }
 },
 "nbformat": 4,
 "nbformat_minor": 5
}
