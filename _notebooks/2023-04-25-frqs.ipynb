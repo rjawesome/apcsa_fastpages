{
 "cells": [
  {
   "attachments": {},
   "cell_type": "markdown",
   "metadata": {},
   "source": [
    "# College Board FRQs\n",
    "\n",
    "- toc: false\n",
    "- badges: true\n",
    "- categories: [cb]"
   ]
  },
  {
   "attachments": {},
   "cell_type": "markdown",
   "metadata": {},
   "source": [
    "# 2014 FRQ #1 Part A (ArrayList FRQ)\n",
    "Write the method scrambleword, which takes a given word and returns a string that contains a scrambled version of the word according to the following rules.\n",
    "- The scrambling process begins at the first letter of the word and continues from left to right.\n",
    "- If two consecutive letters consist of an \"A\" followed by a letter that is not an \"A\", then the two letters are swapped in the resulting string.\n",
    "- Once the letters in two adjacent positions have been swapped, neither of those two positions can be involved in a future swap. "
   ]
  },
  {
   "cell_type": "code",
   "execution_count": 1,
   "metadata": {
    "vscode": {
     "languageId": "java"
    }
   },
   "outputs": [
    {
     "data": {
      "text/plain": [
       "BARCADABAR"
      ]
     },
     "execution_count": 1,
     "metadata": {},
     "output_type": "execute_result"
    }
   ],
   "source": [
    "public static String scrambleWord(String word) {\n",
    "    String newWord = \"\";\n",
    "    for (int i = 0; i<word.length()-1; i++) {\n",
    "        if (word.charAt(i) == 'A' && word.charAt(i+1) != 'A') {\n",
    "           newWord += word.charAt(i+1);\n",
    "           newWord += word.charAt(i);\n",
    "           i++;\n",
    "        } else {\n",
    "           newWord += word.charAt(i);\n",
    "        }\n",
    "    }\n",
    "    return newWord;\n",
    "} \n",
    "\n",
    "// Test\n",
    "scrambleWord(\"ABRACADABRA\");"
   ]
  },
  {
   "cell_type": "code",
   "execution_count": null,
   "metadata": {
    "vscode": {
     "languageId": "java"
    }
   },
   "outputs": [],
   "source": []
  },
  {
   "attachments": {},
   "cell_type": "markdown",
   "metadata": {},
   "source": [
    "# 2014 FRQ#1 Part B (ArrayList FRQ)\n",
    "Write the method scrarnbleOrRemove, which replaces each word in the parameter wordList with its scrambled version and removes any words that are unchanged after scrambling. The relative ordering of the entries in wordList remains the same as before the call to scrambleOrRemove. "
   ]
  },
  {
   "cell_type": "code",
   "execution_count": 2,
   "metadata": {
    "vscode": {
     "languageId": "java"
    }
   },
   "outputs": [
    {
     "name": "stdout",
     "output_type": "stream",
     "text": [
      "[TNA, BARCADABAR, WHO, PAPL, EGG]\n"
     ]
    }
   ],
   "source": [
    "public static void scrambleOrRemove(List<String> wordList) {\n",
    "    for (int i = 0; i<wordList.size(); i++) {\n",
    "        String scrambled = scrambleWord(wordList.get(i));\n",
    "        if (scrambled.equals(wordList.get(i))) {\n",
    "        wordList.remove(i);\n",
    "        i--;\n",
    "        }\n",
    "        else {\n",
    "        wordList.set(i, scrambled);\n",
    "        }\n",
    "    }\n",
    "}\n",
    "\n",
    "ArrayList<String> l = new ArrayList<String>();\n",
    "l.add(\"TAN\");\n",
    "l.add(\"ABRACADABRA\");\n",
    "l.add(\"WHOA\");\n",
    "l.add(\"APPLE\");\n",
    "l.add(\"EGGS\");\n",
    "\n",
    "scrambleOrRemove(l);\n",
    "System.out.println(l);\n"
   ]
  },
  {
   "attachments": {},
   "cell_type": "markdown",
   "metadata": {},
   "source": [
    "# 2017 FRQ#2 (Class FRQ)\n",
    "The MultPractice class is a StudyPractice that produces multiplication practice problems. A MultPractice object is constructed with two integer values: first integer and initial second integer. The first integer is a value that remains constant and is used as the first integer in every practice problem. The initial second integer is used as the starting value for the second integer in the practice problems. This second value is incremented for each additional practice problem that is produced by the class. "
   ]
  },
  {
   "cell_type": "code",
   "execution_count": 3,
   "metadata": {
    "vscode": {
     "languageId": "java"
    }
   },
   "outputs": [],
   "source": [
    "// Base interface (made by college board)\n",
    "public interface StudyPractice {\n",
    "    String getProblem();\n",
    "    void nextProblem();\n",
    "}"
   ]
  },
  {
   "cell_type": "code",
   "execution_count": 4,
   "metadata": {
    "vscode": {
     "languageId": "java"
    }
   },
   "outputs": [],
   "source": [
    "public class MultPractice implements StudyPractice {\n",
    "    private int firstNum;\n",
    "    private int secondNum;\n",
    " \n",
    "    public MultPractice(int first, int second) {\n",
    "       firstNum = first;\n",
    "       secondNum = second;\n",
    "    }\n",
    "    \n",
    "    public String getProblem() {\n",
    "       return firstNum + \" TIMES \" + secondNum;\n",
    "    }\n",
    " \n",
    "    public void nextProblem() {\n",
    "       secondNum++;\n",
    "    }\n",
    " }\n",
    " "
   ]
  },
  {
   "cell_type": "code",
   "execution_count": 5,
   "metadata": {
    "vscode": {
     "languageId": "java"
    }
   },
   "outputs": [
    {
     "name": "stdout",
     "output_type": "stream",
     "text": [
      "7 TIMES 3\n",
      "7 TIMES 5\n"
     ]
    }
   ],
   "source": [
    "// Tester Code\n",
    "StudyPractice sp = new MultPractice(7, 3);\n",
    "System.out.println(sp.getProblem());\n",
    "sp.nextProblem();\n",
    "sp.nextProblem();\n",
    "System.out.println(sp.getProblem());"
   ]
  },
  {
   "attachments": {},
   "cell_type": "markdown",
   "metadata": {},
   "source": [
    "# 2017 FRQ#3a (Methods/Control Structures)\n",
    "The Phrase class includes the method f indNthOccurrence, which returns the nth occurrence of a given string. You must use findNthOccurrence appropriately to receive full credit. Complete method replaceNthOccurrence below. "
   ]
  },
  {
   "cell_type": "code",
   "execution_count": 9,
   "metadata": {
    "vscode": {
     "languageId": "java"
    }
   },
   "outputs": [
    {
     "name": "stdout",
     "output_type": "stream",
     "text": [
      "abbba\n"
     ]
    }
   ],
   "source": [
    "public class Phrase {\n",
    "    private String currentPhrase;\n",
    "\n",
    "    public Phrase(String a) {\n",
    "        this.currentPhrase = a;\n",
    "    }\n",
    "\n",
    "    public String getPhrase() {\n",
    "        return currentPhrase;\n",
    "    }\n",
    "\n",
    "    public int findNthOccurrence(String str, int n) {\n",
    "        int ret = -1;\n",
    "        String curStr = currentPhrase;\n",
    "        int offset = 0;\n",
    "        for (int i = 0; i<n; i++) {\n",
    "            ret = curStr.indexOf(str) + offset;\n",
    "            if (ret - offset == -1) return -1;\n",
    "            curStr = curStr.substring(ret - offset + 1, curStr.length());\n",
    "            offset += (ret - offset) + 1;\n",
    "        }\n",
    "        return ret;\n",
    "    }\n",
    "\n",
    "    public void replaceNthOccurence(String str, int n, String repl) {\n",
    "        // FRQ Answer\n",
    "        int occur = findNthOccurrence(str, n);\n",
    "        if (occur == -1) return;\n",
    "        currentPhrase = currentPhrase.substring(0, occur) + repl + currentPhrase.substring(occur + str.length(), currentPhrase.length());\n",
    "    }\n",
    "}\n",
    "\n",
    "Phrase p = new Phrase(\"aaaa\");\n",
    "p.replaceNthOccurence(\"aa\", 2, \"bbb\");\n",
    "System.out.println(p.getPhrase());"
   ]
  },
  {
   "attachments": {},
   "cell_type": "markdown",
   "metadata": {},
   "source": [
    "# 2017 FRQ#3b (Methods/Control Structures)\n",
    "Write the Phrase method f indLastOccurrence. This method finds and returns the index of the last occurrence of a given string in current Phrase. If the given string is not found, -1 is returned. The following tables show several examples of the behavior of the method findLastOccurrence. "
   ]
  },
  {
   "cell_type": "code",
   "execution_count": 1,
   "metadata": {
    "vscode": {
     "languageId": "java"
    }
   },
   "outputs": [
    {
     "name": "stdout",
     "output_type": "stream",
     "text": [
      "11\n",
      "-1\n"
     ]
    }
   ],
   "source": [
    "public class Phrase {\n",
    "    private String currentPhrase;\n",
    "\n",
    "    public Phrase(String a) {\n",
    "        this.currentPhrase = a;\n",
    "    }\n",
    "\n",
    "    public String getPhrase() {\n",
    "        return currentPhrase;\n",
    "    }\n",
    "\n",
    "    public int findNthOccurrence(String str, int n) {\n",
    "        int ret = -1;\n",
    "        String curStr = currentPhrase;\n",
    "        int offset = 0;\n",
    "        for (int i = 0; i<n; i++) {\n",
    "            ret = curStr.indexOf(str) + offset;\n",
    "            if (ret - offset == -1) return -1;\n",
    "            curStr = curStr.substring(ret - offset + 1, curStr.length());\n",
    "            offset += (ret - offset) + 1;\n",
    "        }\n",
    "        return ret;\n",
    "    }\n",
    "\n",
    "    public void replaceNthOccurence(String str, int n, String repl) {\n",
    "        int occur = findNthOccurrence(str, n);\n",
    "        if (occur == -1) return;\n",
    "        currentPhrase = currentPhrase.substring(0, occur) + repl + currentPhrase.substring(occur + str.length(), currentPhrase.length());\n",
    "    }\n",
    "\n",
    "    public int findLastOccurrence(String str) {\n",
    "        // FRQ Answer\n",
    "        int og_occur = findNthOccurrence(str, 1);\n",
    "        int prev_occur = og_occur;\n",
    "        int cnt = 2;\n",
    "        while (og_occur != -1) {\n",
    "           prev_occur = og_occur;\n",
    "           og_occur = findNthOccurrence(str, cnt);\n",
    "           cnt++;\n",
    "        }\n",
    "        return prev_occur;\n",
    "     }\n",
    "}\n",
    "\n",
    "// Tester code\n",
    "Phrase p = new Phrase(\"A cat ate late.\");\n",
    "p.replaceNthOccurence(\"aa\", 2, \"bbb\");\n",
    "System.out.println(p.findLastOccurrence(\"ate\"));\n",
    "System.out.println(p.findLastOccurrence(\"bat\"));"
   ]
  },
  {
   "attachments": {},
   "cell_type": "markdown",
   "metadata": {},
   "source": [
    "# 2021 FRQ#4a (2D Array)\n",
    "Write the method isNonZeroRow, which returns true if and only if all elements in row r of a two-dimensional array array2D are not equal to zero. \n"
   ]
  },
  {
   "cell_type": "code",
   "execution_count": 2,
   "metadata": {
    "vscode": {
     "languageId": "java"
    }
   },
   "outputs": [
    {
     "name": "stdout",
     "output_type": "stream",
     "text": [
      "false\n",
      "true\n",
      "false\n",
      "true\n"
     ]
    }
   ],
   "source": [
    "public static boolean isNonZeroRow(int[][] array2D, int r) {\n",
    "    for (int i = 0; i<array2D[r].length; i++) {\n",
    "       if (array2D[r][i] == 0) return false;\n",
    "    }\n",
    "    return true;\n",
    "}\n",
    "\n",
    "// Tester code\n",
    "int[][] arr = {{2,1,0},{1,3,2},{0,0,0},{4,5,6}};\n",
    "\n",
    "// expected: false, true, false, true\n",
    "for (int i = 0; i<arr.length; i++) {\n",
    "    System.out.println(isNonZeroRow(arr, i));\n",
    "}"
   ]
  },
  {
   "attachments": {},
   "cell_type": "markdown",
   "metadata": {},
   "source": [
    "# 2021 FRQ#4b (2D Arrays)\n",
    "Write the method resize, which returns a new two-dimensional array containing only rows from array2D with all non-zero values. The elements in the new array should appear in the same order as the order in which they appeared in the original array. \n"
   ]
  },
  {
   "cell_type": "code",
   "execution_count": 4,
   "metadata": {
    "vscode": {
     "languageId": "java"
    }
   },
   "outputs": [
    {
     "name": "stdout",
     "output_type": "stream",
     "text": [
      "1 3 2 \n",
      "4 5 6 \n"
     ]
    }
   ],
   "source": [
    "// method provided by college board (not part of FRQ)\n",
    "public static int numNonZeroRows(int[][] array2D) {\n",
    "    int count = 0;\n",
    "    for (int i = 0; i<array2D.length; i++) count += isNonZeroRow(array2D, i) ? 1 : 0;\n",
    "    return count;\n",
    "}\n",
    "\n",
    "public static int[][] resize(int[][] array2D) {\n",
    "    int row = 0;\n",
    "    int[][] ret = new int[numNonZeroRows(array2D)][array2D[0].length];\n",
    " \n",
    "    for (int i = 0; i<array2D.length; i++) {\n",
    "       if (isNonZeroRow(array2D, i)) {\n",
    "          ret[row] = array2D[i];\n",
    "          row++;\n",
    "       }\n",
    "    }\n",
    " \n",
    "    return ret;\n",
    " }\n",
    "\n",
    " // Tester code\n",
    "int[][] arr = {{2,1,0},{1,3,2},{0,0,0},{4,5,6}};\n",
    "int[][] arrNew = resize(arr);\n",
    "\n",
    "for (int i = 0; i<arrNew.length; i++) {\n",
    "    for (int j = 0; j<arrNew[i].length; j++) {\n",
    "        System.out.print(arrNew[i][j] + \" \");\n",
    "    }\n",
    "    System.out.println();\n",
    "}"
   ]
  }
 ],
 "metadata": {
  "kernelspec": {
   "display_name": "Java",
   "language": "java",
   "name": "java"
  },
  "language_info": {
   "codemirror_mode": "java",
   "file_extension": ".jshell",
   "mimetype": "text/x-java-source",
   "name": "Java",
   "pygments_lexer": "java",
   "version": "17-ea+11-Ubuntu-116.042"
  },
  "orig_nbformat": 4
 },
 "nbformat": 4,
 "nbformat_minor": 2
}
