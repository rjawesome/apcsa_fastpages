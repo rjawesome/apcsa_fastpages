{
 "cells": [
  {
   "cell_type": "markdown",
   "id": "e6b7af52",
   "metadata": {},
   "source": [
    "# \"Java Jupyter Notebook\"\n",
    "> \"Prints hello using a printer class\"\n",
    "\n",
    "- toc:true\n",
    "- branch: master\n",
    "- badges: true\n",
    "- comments: true\n",
    "- author: Rohan Juneja\n",
    "- categories: [fastpages, jupyter]"
   ]
  },
  {
   "cell_type": "code",
   "execution_count": 8,
   "id": "3af60b2d",
   "metadata": {
    "vscode": {
     "languageId": "java"
    }
   },
   "outputs": [],
   "source": [
    "//Class can print a specific value\n",
    "public class Printer {\n",
    "  private String value;\n",
    "\n",
    "  //takes in value to print\n",
    "  public Printer (String value) {\n",
    "    this.value = value;\n",
    "  }\n",
    "\n",
    "  //prints the value\n",
    "  public void print() {\n",
    "    System.out.println(value);\n",
    "  }\n",
    "\n",
    "  //tests the class by printing hello and hello world\n",
    "  public static void main (String[] args) {\n",
    "    Printer helloPrinter = new Printer(\"hello\");\n",
    "    helloPrinter.print();\n",
    "\n",
    "    Printer helloWorldPrinter = new Printer(\"hello world\");\n",
    "    helloWorldPrinter.print();\n",
    "  }\n",
    "}"
   ]
  },
  {
   "cell_type": "code",
   "execution_count": 9,
   "id": "f0aadd6a",
   "metadata": {
    "vscode": {
     "languageId": "java"
    }
   },
   "outputs": [
    {
     "name": "stdout",
     "output_type": "stream",
     "text": [
      "hello\n",
      "hello world\n"
     ]
    }
   ],
   "source": [
    "// use main method from Printer\n",
    "Printer.main(null);\n",
    "/* expected output:\n",
    " * hello\n",
    " * hello world\n",
    " */"
   ]
  }
 ],
 "metadata": {
  "kernelspec": {
   "display_name": "Java",
   "language": "java",
   "name": "java"
  },
  "language_info": {
   "codemirror_mode": "java",
   "file_extension": ".jshell",
   "mimetype": "text/x-java-source",
   "name": "Java",
   "pygments_lexer": "java",
   "version": "11.0.14+9-Ubuntu-0ubuntu2.16.04"
  }
 },
 "nbformat": 4,
 "nbformat_minor": 5
}
