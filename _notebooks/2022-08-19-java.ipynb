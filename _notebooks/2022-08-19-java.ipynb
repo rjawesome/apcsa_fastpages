{
 "cells": [
  {
   "cell_type": "markdown",
   "id": "e6b7af52",
   "metadata": {},
   "source": [
    "# \"Java Jupyter Notebook\"\n",
    "> \"Prints hello\"\n",
    "\n",
    "- toc:true\n",
    "- branch: master\n",
    "- badges: true\n",
    "- comments: true\n",
    "- author: Rohan Juneja\n",
    "- categories: [fastpages, jupyter]"
   ]
  },
  {
   "cell_type": "code",
   "execution_count": 1,
   "id": "f0aadd6a",
   "metadata": {},
   "outputs": [
    {
     "name": "stdout",
     "output_type": "stream",
     "text": [
      "hello\n"
     ]
    }
   ],
   "source": [
    "System.out.println(\"hello\");"
   ]
  }
 ],
 "metadata": {
  "kernelspec": {
   "display_name": "Java",
   "language": "java",
   "name": "java"
  },
  "language_info": {
   "codemirror_mode": "java",
   "file_extension": ".jshell",
   "mimetype": "text/x-java-source",
   "name": "java",
   "pygments_lexer": "java",
   "version": "11.0.14+9-Ubuntu-0ubuntu2.16.04"
  }
 },
 "nbformat": 4,
 "nbformat_minor": 5
}
