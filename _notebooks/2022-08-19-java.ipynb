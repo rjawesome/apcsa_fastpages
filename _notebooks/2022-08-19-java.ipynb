{
 "cells": [
  {
   "cell_type": "markdown",
   "id": "e6b7af52",
   "metadata": {},
   "source": [
    "# \"Java Jupyter Notebook\"\n",
    "> \"Prints hello using a printer class\"\n",
    "\n",
    "- toc:true\n",
    "- branch: master\n",
    "- badges: true\n",
    "- comments: true\n",
    "- author: Rohan Juneja\n",
    "- categories: [cb]"
   ]
  },
  {
   "cell_type": "code",
   "execution_count": 11,
   "id": "ef9f946b",
   "metadata": {},
   "outputs": [],
   "source": [
    "//imports\n",
    "import java.time.*;"
   ]
  },
  {
   "cell_type": "code",
   "execution_count": 19,
   "id": "3af60b2d",
   "metadata": {},
   "outputs": [],
   "source": [
    "//Class can print a value with current date\n",
    "public class Printer {\n",
    "  private String value;\n",
    "\n",
    "  //takes in value to print\n",
    "  public Printer (String value) {\n",
    "    this.value = value;\n",
    "  }\n",
    "\n",
    "  //prints the value & date info from java.time\n",
    "  public void print() {\n",
    "    //get current date in YYYY-MM-DD format\n",
    "    String currentDate = LocalDate.now().toString();\n",
    "\n",
    "    //print value & currentdate\n",
    "    System.out.println(\"[\" + currentDate + \"]: \" + value);\n",
    "  }\n",
    "\n",
    "  //tests the class by printing hello and hello world\n",
    "  public static void main (String[] args) {\n",
    "    //this printer prints hello\n",
    "    Printer helloPrinter = new Printer(\"hello\");\n",
    "    helloPrinter.print();\n",
    "\n",
    "    //this printer prints hello world\n",
    "    Printer helloWorldPrinter = new Printer(\"hello world\");\n",
    "    helloWorldPrinter.print();\n",
    "  }\n",
    "}"
   ]
  },
  {
   "cell_type": "code",
   "execution_count": 20,
   "id": "f0aadd6a",
   "metadata": {},
   "outputs": [
    {
     "name": "stdout",
     "output_type": "stream",
     "text": [
      "[2022-08-20]: hello\n",
      "[2022-08-20]: hello world\n"
     ]
    }
   ],
   "source": [
    "// use main method from Printer\n",
    "Printer.main(null);\n",
    "/* expected output (ran on 8/20/2022):\n",
    " * [2022-08-20]: hello\n",
    " * [2022-08-20]: hello world\n",
    " */"
   ]
  }
 ],
 "metadata": {
  "kernelspec": {
   "display_name": "Java",
   "language": "java",
   "name": "java"
  },
  "language_info": {
   "codemirror_mode": "java",
   "file_extension": ".jshell",
   "mimetype": "text/x-java-source",
   "name": "java",
   "pygments_lexer": "java",
   "version": "11.0.14+9-Ubuntu-0ubuntu2.16.04"
  }
 },
 "nbformat": 4,
 "nbformat_minor": 5
}
