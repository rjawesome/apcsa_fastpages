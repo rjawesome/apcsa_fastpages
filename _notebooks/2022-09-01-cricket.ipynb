{
 "cells": [
  {
   "cell_type": "markdown",
   "metadata": {},
   "source": [
    "# Cricket Scores GUI\n",
    "> This app provides a GUI for checking cricket scores using objects\n",
    "\n",
    "- toc:true\n",
    "- branch: master\n",
    "- badges: true\n",
    "- comments: true\n",
    "- author: Rohan Juneja\n",
    "- categories: [pbl, cb]"
   ]
  },
  {
   "cell_type": "code",
   "execution_count": 2,
   "metadata": {
    "vscode": {
     "languageId": "java"
    }
   },
   "outputs": [],
   "source": [
    "import java.util.List;"
   ]
  },
  {
   "cell_type": "code",
   "execution_count": 3,
   "metadata": {
    "vscode": {
     "languageId": "java"
    }
   },
   "outputs": [],
   "source": [
    "%%loadFromPOM\n",
    "<dependency>\n",
    "    <groupId>org.json</groupId>\n",
    "    <artifactId>json</artifactId>\n",
    "    <version>20090211</version>\n",
    "</dependency>"
   ]
  },
  {
   "cell_type": "markdown",
   "metadata": {},
   "source": [
    "The ``CricketScores`` class uses static methods in order to pull cricket scores for a specific team"
   ]
  },
  {
   "cell_type": "code",
   "execution_count": 4,
   "metadata": {
    "vscode": {
     "languageId": "java"
    }
   },
   "outputs": [],
   "source": [
    "import java.net.http.*;\n",
    "import org.json.*;\n",
    "import java.util.List;\n",
    "\n",
    "public class CricketScores {\n",
    "  private static Map<String,String> teamIds = new HashMap<>();\n",
    "  static {\n",
    "    teamIds.put(\"IND\", \"187765\");\n",
    "    teamIds.put(\"AFG\", \"187575\");\n",
    "    teamIds.put(\"SL\", \"187756\");\n",
    "    teamIds.put(\"PAK\", \"187754\");\n",
    "  }\n",
    "  public static List<String[]> getScores (String team) throws IOException, InterruptedException, JSONException {\n",
    "    String teamId = teamIds.get(team);\n",
    "    HttpRequest request = HttpRequest.newBuilder()\n",
    "\t\t.uri(URI.create(\"https://cricketapi10.p.rapidapi.com/api/cricket/team/\"+teamId+\"/matches/previous/0\"))\n",
    "\t\t.header(\"X-RapidAPI-Key\", \"f58766a4c1msh85336d65179f2c3p15dc2bjsne94dee50a809\")\n",
    "\t\t.header(\"X-RapidAPI-Host\", \"cricketapi10.p.rapidapi.com\")\n",
    "\t\t.method(\"GET\", HttpRequest.BodyPublishers.noBody())\n",
    "\t\t.build();\n",
    "    HttpResponse<String> response = HttpClient.newHttpClient().send(request, HttpResponse.BodyHandlers.ofString());\n",
    "    JSONArray events = (new JSONObject(response.body())).getJSONArray(\"events\");\n",
    "    List<String[]> ret = new ArrayList<String[]>();\n",
    "    for (int i = events.length()-1; i>Math.max(0, events.length()-5); i--) {\n",
    "      JSONObject event = (JSONObject) events.get(i);\n",
    "      String awayName = event.getJSONObject(\"awayTeam\").getString(\"name\");\n",
    "      int awayScore = event.getJSONObject(\"awayScore\").getJSONObject(\"innings\").getJSONObject(\"inning1\").getInt(\"score\");\n",
    "      int awayWickets = event.getJSONObject(\"awayScore\").getJSONObject(\"innings\").getJSONObject(\"inning1\").getInt(\"wickets\");\n",
    "      int awayOvers = event.getJSONObject(\"awayScore\").getJSONObject(\"innings\").getJSONObject(\"inning1\").getInt(\"overs\");\n",
    "      String homeName = event.getJSONObject(\"homeTeam\").getString(\"name\");\n",
    "      int homeScore = event.getJSONObject(\"homeScore\").getJSONObject(\"innings\").getJSONObject(\"inning1\").getInt(\"score\");\n",
    "      int homeWickets = event.getJSONObject(\"homeScore\").getJSONObject(\"innings\").getJSONObject(\"inning1\").getInt(\"wickets\");\n",
    "      int homeOvers = event.getJSONObject(\"homeScore\").getJSONObject(\"innings\").getJSONObject(\"inning1\").getInt(\"overs\");\n",
    "      String[] data = {event.getString(\"note\"), awayName + \": \" + awayScore + \"/\" + awayWickets + \" in \" + awayOvers + \" overs\", homeName + \": \" + homeScore + \"/\" + homeWickets + \" in \" + awayOvers + \" overs\"};\n",
    "      ret.add(data);\n",
    "    }\n",
    "    return ret;\n",
    "  }\n",
    "}"
   ]
  },
  {
   "cell_type": "markdown",
   "metadata": {},
   "source": [
    "Here, the CricketJFrame is a class which can be instantiated as an object in order to create the Window which provides Cricket Scores for 3 teams (IND, SL, PAK) which can be chosen from the Menu items (Note that there may be an error for kernel crashing as this occurs once the window is closed)"
   ]
  },
  {
   "cell_type": "code",
   "execution_count": 5,
   "metadata": {
    "vscode": {
     "languageId": "java"
    }
   },
   "outputs": [
    {
     "ename": "",
     "evalue": "",
     "output_type": "error",
     "traceback": [
      "\u001b[1;31mThe Kernel crashed while executing code in the the current cell or a previous cell. Please review the code in the cell(s) to identify a possible cause of the failure. Click <a href='https://aka.ms/vscodeJupyterKernelCrash'>here</a> for more info. View Jupyter <a href='command:jupyter.viewOutput'>log</a> for further details."
     ]
    }
   ],
   "source": [
    "import java.awt.*;\n",
    "import java.awt.event.*;\n",
    "import javax.swing.*;\n",
    "import java.util.Timer;\n",
    "import java.util.TimerTask;\n",
    "// Graphical-User-Interface for Desktop in Java using Java Swing. \n",
    "public class CricketJFrame extends JFrame implements ActionListener {\n",
    "    private JFrame frame;\n",
    "    private JMenuBar menubar;\n",
    "    private JMenu menu;\n",
    "    private JLabel message = new JLabel(\"Click on Team to select a team.\");\n",
    "    private JLabel[][] matches = {\n",
    "      {new JLabel(\"\"), new JLabel(\"\")},\n",
    "      {new JLabel(\"\"), new JLabel(\"\")},\n",
    "      {new JLabel(\"\"), new JLabel(\"\")},\n",
    "      {new JLabel(\"\"), new JLabel(\"\")}\n",
    "    };\n",
    "    public final String[] MENUS = { // 1D Array of Menu Choices\n",
    "        \"IND\", \"SL\", \"PAK\"  \n",
    "    };\n",
    "    JPanel labelPanel = new JPanel();\n",
    "\n",
    "    // Constructor enables the Frame instance, the object \"this.frame\"\n",
    "    public CricketJFrame() {\n",
    "\t      // Initializing Key Objects\n",
    "        frame = new JFrame(\"Cricket Scores\");\n",
    "\t      menubar = new JMenuBar();\n",
    "\t      menu = new JMenu(\"Teams\");\n",
    "\n",
    "        // Initialize panel & message\n",
    "        labelPanel.setLayout(new BoxLayout(labelPanel, BoxLayout.Y_AXIS));\n",
    "        message.setAlignmentX(Component.CENTER_ALIGNMENT);\n",
    "        message.setVisible(false);\n",
    "\n",
    "        // Initializing Menu objects and adding actions\n",
    "        for (String mx : MENUS) {\n",
    "            JMenuItem m = new JMenuItem(mx);\n",
    "            m.addActionListener(this);\n",
    "            menu.add(m); \n",
    "        }\n",
    "\n",
    "        // Adding / Connecting Objects\n",
    "        menubar.add(menu);\n",
    "        frame.setJMenuBar(menubar);\n",
    "        labelPanel.add(message);\n",
    "        labelPanel.add(Box.createGlue());\n",
    "\n",
    "        //Adding match JLabels\n",
    "        for (JLabel[] lab : matches) {\n",
    "          lab[0].setAlignmentX(Component.CENTER_ALIGNMENT);\n",
    "          lab[1].setAlignmentX(Component.CENTER_ALIGNMENT);\n",
    "          lab[0].setVisible(false);\n",
    "          lab[1].setVisible(false);\n",
    "          labelPanel.add(lab[0]);\n",
    "          labelPanel.add(lab[1]);\n",
    "          labelPanel.add(Box.createGlue());\n",
    "        }\n",
    "\n",
    "        frame.add(labelPanel);\n",
    "\n",
    "        // Sets JFrame close operation to Class variable JFrame.EXIT_ON_CLOSE\n",
    "        frame.setDefaultCloseOperation(JFrame.EXIT_ON_CLOSE);\n",
    "        \n",
    "        // set the size of window based on objects\n",
    "        frame.setSize(400,400);\n",
    "\n",
    "        // makes the frame object visible according to properties previously set\n",
    "        frame.setVisible(true); \n",
    "    }\n",
    "\n",
    "    // event from user selecting a menu option\n",
    "    public void actionPerformed(ActionEvent e) {\n",
    "        String selection = e.getActionCommand();  // menu selection\n",
    "        String msg; // local variable to create response from action\n",
    "\n",
    "        // run code based on the menuItem that was selected\n",
    "        try {\n",
    "            List<String[]> teamData = CricketScores.getScores(selection);\n",
    "            message.setText(selection + \" Recent Cricket Matches\");\n",
    "            message.setVisible(true);\n",
    "            for (int i = 0; i<teamData.size(); i++) {\n",
    "              System.out.println(i);\n",
    "              // matches[i].setText(\"<html><div style='text-align: center; background: gray;'>\" + teamData.get(i)[0] + \"<br/>\" + teamData.get(i)[1] + \"<br/>\" + teamData.get(i)[2] + \"</div></html>\");\n",
    "              // matches[i].setVisible(true);\n",
    "              matches[i][0].setText(teamData.get(i)[0]);\n",
    "              matches[i][1].setText(teamData.get(i)[1] + \"      \" + teamData.get(i)[2]);\n",
    "              matches[i][0].setVisible(true);\n",
    "              matches[i][1].setVisible(true);\n",
    "            }\n",
    "        } catch (Exception ex) {\n",
    "          System.err.println(\"Error occured\");\n",
    "        }\n",
    "    }\n",
    "\n",
    "    // Driver turn over control the GUI\n",
    "    public static void main(String[] args) {\n",
    "        // Activates an instance of CricketJFrame class, which makes a JFrame object\n",
    "        new CricketJFrame();\n",
    "    }\n",
    "}\n",
    "CricketJFrame.main(null);"
   ]
  }
 ],
 "metadata": {
  "kernelspec": {
   "display_name": "Java",
   "language": "java",
   "name": "java"
  },
  "language_info": {
   "codemirror_mode": "java",
   "file_extension": ".jshell",
   "mimetype": "text/x-java-source",
   "name": "Java",
   "pygments_lexer": "java",
   "version": "11.0.14+9-Ubuntu-0ubuntu2.16.04"
  },
  "orig_nbformat": 4
 },
 "nbformat": 4,
 "nbformat_minor": 2
}
