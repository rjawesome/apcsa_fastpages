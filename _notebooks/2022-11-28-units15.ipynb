{
 "cells": [
  {
   "cell_type": "markdown",
   "metadata": {},
   "source": [
    "# Units 1-5 Jupyter Notebooks\n",
    "> Notes and code on units 1-5\n",
    "- categories: [cb]"
   ]
  },
  {
   "cell_type": "markdown",
   "metadata": {},
   "source": [
    "# Unit 1: Primitives (our lesson)\n",
    "- Two main types of data in java: primitives (int, boolean, char, double) and objects (Strings, other classes)\n",
    "- Primitives can be compared with == while for classes it is necessary to use the .equals() method\n",
    "- Primitives do not have methods and properties while these are present in classes (ie. String length() method)"
   ]
  },
  {
   "cell_type": "markdown",
   "metadata": {},
   "source": [
    "## Casting (Division/Rounding)\n",
    "- In order to do division with numbers, casting to double is necessary\n",
    "- When casting is done from double to integer, the number is ALWAYS rounded down (truncated)"
   ]
  },
  {
   "cell_type": "code",
   "execution_count": 2,
   "metadata": {},
   "outputs": [
    {
     "name": "stdout",
     "output_type": "stream",
     "text": [
      "2\n",
      "2.5\n",
      "6.7\n",
      "6\n"
     ]
    }
   ],
   "source": [
    "int a = 5;\n",
    "int b = 2;\n",
    "// Without casting (rounds down to 2)\n",
    "System.out.println(a/b);\n",
    "\n",
    "// With casting to double (gives correct answer of 2.5)\n",
    "System.out.println((double)a/(double)b);\n",
    "\n",
    "double c = 6.7;\n",
    "\n",
    "// Without casting (shows full decimal)\n",
    "System.out.println(c);\n",
    "\n",
    "// WIth casting to integer (rounds down to 6)\n",
    "System.out.println((int)c);"
   ]
  },
  {
   "cell_type": "markdown",
   "metadata": {},
   "source": [
    "## Wrapper Classes, why wrap int, double.\n",
    "Wrapper classes are used to convert primitives in a class, necessary for types which use generic (ex. ArrayList)"
   ]
  },
  {
   "cell_type": "code",
   "execution_count": 5,
   "metadata": {},
   "outputs": [
    {
     "name": "stdout",
     "output_type": "stream",
     "text": [
      "[6, 6]\n"
     ]
    }
   ],
   "source": [
    "int a = 6;\n",
    "\n",
    "// DOES NOT WORK: unexpected type (because primitive)\n",
    "// ArrayList<int> list = new ArrayList<int>();\n",
    "\n",
    "// Using \"Integer\" wrapper class\n",
    "ArrayList<Integer> list = new ArrayList<Integer>();\n",
    "\n",
    "// Creating \"Integer\" from int\n",
    "Integer a_wrap = new Integer(a);\n",
    "list.add(a_wrap);\n",
    "\n",
    "// Using java to automatically cast int to Integer\n",
    "list.add(a);\n",
    "\n",
    "// Both elements are there\n",
    "System.out.println(list);"
   ]
  },
  {
   "cell_type": "markdown",
   "metadata": {},
   "source": [
    "# Unit 2: Using Objects\n",
    "- Objects are just an instance created out of a class created w/ a constructor (which takes in parameters describing the object\n",
    "- Methods in objects can be void (returns nothing) or have a return type specified\n",
    "- Static methods and properties are tied to class rather than object (ie. same value for all objects)\n",
    "- Methods can be overloaded (have different sets of parameters) as long as order of types differs between method definitions even with same name"
   ]
  },
  {
   "cell_type": "markdown",
   "metadata": {},
   "source": [
    "## Concatenation\n",
    "- Allows you to combine strings together using + sign\n",
    "- If string is added to a non string type, the toString method is used, or for primitives it is automatically converted to string"
   ]
  },
  {
   "cell_type": "code",
   "execution_count": 7,
   "metadata": {},
   "outputs": [
    {
     "name": "stdout",
     "output_type": "stream",
     "text": [
      "a string and another string \n",
      "a string and another string 10\n",
      "a string and another string a cool class\n"
     ]
    }
   ],
   "source": [
    "public class CoolClass {\n",
    "  public String toString() {\n",
    "    return \"a cool class\";\n",
    "  }\n",
    "}\n",
    "\n",
    "String a = \"a string\";\n",
    "String b = \" and another string \";\n",
    "int c = 10;\n",
    "CoolClass d = new CoolClass();\n",
    "\n",
    "// Adding two strings together\n",
    "System.out.println(a + b);\n",
    "\n",
    "// Adding string and primitive (integer);\n",
    "System.out.println(a + b + c);\n",
    "\n",
    "// Adding string and other object (uses toString)\n",
    "System.out.println(a + b + d);"
   ]
  },
  {
   "cell_type": "markdown",
   "metadata": {},
   "source": [
    "## Math class\n",
    "- Math class is useful for many mathematical operations such as square root and power\n",
    "- Also useful for random numnber generation, Math.random gives number 0-1 which can be scaled to any set of numbers (see below code)"
   ]
  },
  {
   "cell_type": "code",
   "execution_count": 11,
   "metadata": {},
   "outputs": [
    {
     "name": "stdout",
     "output_type": "stream",
     "text": [
      "10\n",
      "1\n",
      "10\n",
      "6\n",
      "2\n",
      "5\n",
      "1\n",
      "6\n",
      "8\n",
      "10\n"
     ]
    }
   ],
   "source": [
    "int n = 10; // random number from 1-n\n",
    "\n",
    "// 10 random numbers\n",
    "for (int i = 0; i<10; i++) {\n",
    "  int random_number = (int)(Math.random() * n + 1); // cast to int ensures resulting output is whole number\n",
    "  System.out.println(random_number);\n",
    "}"
   ]
  },
  {
   "cell_type": "markdown",
   "metadata": {},
   "source": [
    "## Comparing Numbers/Strings/Objects"
   ]
  },
  {
   "cell_type": "markdown",
   "metadata": {},
   "source": [
    "# Unit 3: Booleans/If statement\n",
    "- Booleans store a true/false value (can only be one of these)\n",
    "- Booleans can be generated using comparison expressions (equal/==, greater than/>, less than/<, etc.)\n",
    "- If statements take in a boolean or boolean expression and run if the expression evaluates to \"true\"\n",
    "- Else & Else if statements can be used in conjunction with if statements to run code if the if statement evaluates to false"
   ]
  },
  {
   "cell_type": "markdown",
   "metadata": {},
   "source": [
    "## Compound Boolean Expression\n",
    "- Using combinations of boolean operators, you can make compound boolean expressions\n",
    "- Operators that can be used include and (&&), or (||), not (!), as well as parenthesis for grouping purposes"
   ]
  },
  {
   "cell_type": "code",
   "execution_count": 12,
   "metadata": {},
   "outputs": [
    {
     "name": "stdout",
     "output_type": "stream",
     "text": [
      "false\n"
     ]
    }
   ],
   "source": [
    "boolean a = true;\n",
    "boolean b = false;\n",
    "\n",
    "// Creating a compound expression\n",
    "boolean compound = !(a && b) && (b || a) && (!b && !a);\n",
    "\n",
    "// Printing the result\n",
    "System.out.println(compound);"
   ]
  },
  {
   "cell_type": "markdown",
   "metadata": {},
   "source": [
    "## Truth Tables\n",
    "- Can be used to see the values of boolean expressions\n",
    "- For example, below is truth tables for and/or\n",
    "### AND\n",
    "X | 0 | 1 |<br>\n",
    "0 | 0 | 0 |<br>\n",
    "1 | 0 | 1 |<br>\n",
    "### OR\n",
    "X | 0 | 1 |<br>\n",
    "0 | 0 | 1 |<br>\n",
    "1 | 1 | 1 |<br>"
   ]
  },
  {
   "cell_type": "markdown",
   "metadata": {},
   "source": [
    "## De Morgan's Law\n",
    "- Useful for simplifying boolean expresison\n",
    "- States that ``!(a && b) = !a || !b`` AND ``!(a || b) = !a && !b`` (ie. distribute and switch the middle sign) "
   ]
  },
  {
   "cell_type": "code",
   "execution_count": 13,
   "metadata": {},
   "outputs": [
    {
     "name": "stdout",
     "output_type": "stream",
     "text": [
      "false false false\n"
     ]
    }
   ],
   "source": [
    "boolean a = true;\n",
    "boolean b = false;\n",
    "boolean c = true;\n",
    "boolean d = false;\n",
    "\n",
    "// complicated boolean expression\n",
    "boolean res1 = !((!(a && b)) || (!(a || b)));\n",
    "\n",
    "// simplified using De Morgan's Law once\n",
    "boolean res2 = !((!a || !b) || (!a && !b));\n",
    "\n",
    "//simplified using De Morgan's Law twice\n",
    "boolean res3 = !(!a || !b) && !(!a && !b);\n",
    "\n",
    "// all results are the same\n",
    "System.out.println(res1 + \" \" + res2 + \" \" + res3);"
   ]
  },
  {
   "cell_type": "markdown",
   "metadata": {},
   "source": []
  }
 ],
 "metadata": {
  "kernelspec": {
   "display_name": "Java",
   "language": "java",
   "name": "java"
  },
  "language_info": {
   "codemirror_mode": "java",
   "file_extension": ".jshell",
   "mimetype": "text/x-java-source",
   "name": "java",
   "pygments_lexer": "java",
   "version": "11.0.14+9-Ubuntu-0ubuntu2.16.04"
  },
  "orig_nbformat": 4
 },
 "nbformat": 4,
 "nbformat_minor": 2
}
