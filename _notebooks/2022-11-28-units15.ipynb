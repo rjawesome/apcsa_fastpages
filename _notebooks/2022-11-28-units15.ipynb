{
 "cells": [
  {
   "cell_type": "markdown",
   "metadata": {},
   "source": [
    "# Units 1-5 Jupyter Notebooks\n",
    "> Notes and code on units 1-5\n",
    "- categories: [cb]\n",
    "- toc: true"
   ]
  },
  {
   "cell_type": "markdown",
   "metadata": {},
   "source": [
    "# Grading\n",
    "- [Unit 1: Us](https://docs.google.com/spreadsheets/d/1LG6lYp17hDaXROLX8L0f7-3NXGY8P1KYTAbHTg4vuVg/edit?usp=sharing)\n",
    "- [Unit 2: 1/1](https://kar722.github.io/fastpages/markdown/2022/11/29/Grading.html#unit-2-homework-grades)\n",
    "- [Unit 3: .9/1](https://riya-patil.github.io/Riya-Patil-APCSA/2022/12/01/Unit3-Grading-(3).html)\n",
    "- [Unit 4: .8/1](https://horizon-ab.github.io/congenial-tribble/2022/12/01/unit4grading.html)\n",
    "- [Unit 5: .9/1](https://docs.google.com/spreadsheets/d/1aFZm759u2tpGNjJ7zaB753t2nwZ4bEZ88p9NMF37k2c/edit#gid=0)"
   ]
  },
  {
   "cell_type": "markdown",
   "metadata": {},
   "source": [
    "# Unit 1: Primitives (our lesson)\n",
    "- Two main types of data in java: primitives (int, boolean, char, double) and objects (Strings, other classes)\n",
    "- Primitives can be compared with == while for classes it is necessary to use the .equals() method\n",
    "- Primitives do not have methods and properties while these are present in classes (ie. String length() method)\n",
    "- Homework N/A since we presented this unit"
   ]
  },
  {
   "cell_type": "markdown",
   "metadata": {},
   "source": [
    "## Casting (Division/Rounding)\n",
    "- In order to do division with numbers, casting to double is necessary\n",
    "- When casting is done from double to integer, the number is ALWAYS rounded down (truncated)"
   ]
  },
  {
   "cell_type": "code",
   "execution_count": 2,
   "metadata": {},
   "outputs": [
    {
     "name": "stdout",
     "output_type": "stream",
     "text": [
      "2\n",
      "2.5\n",
      "6.7\n",
      "6\n"
     ]
    }
   ],
   "source": [
    "int a = 5;\n",
    "int b = 2;\n",
    "// Without casting (rounds down to 2)\n",
    "System.out.println(a/b);\n",
    "\n",
    "// With casting to double (gives correct answer of 2.5)\n",
    "System.out.println((double)a/(double)b);\n",
    "\n",
    "double c = 6.7;\n",
    "\n",
    "// Without casting (shows full decimal)\n",
    "System.out.println(c);\n",
    "\n",
    "// WIth casting to integer (rounds down to 6)\n",
    "System.out.println((int)c);"
   ]
  },
  {
   "cell_type": "markdown",
   "metadata": {},
   "source": [
    "## Wrapper Classes, why wrap int, double.\n",
    "Wrapper classes are used to convert primitives in a class, necessary for types which use generic (ex. ArrayList)"
   ]
  },
  {
   "cell_type": "code",
   "execution_count": 5,
   "metadata": {},
   "outputs": [
    {
     "name": "stdout",
     "output_type": "stream",
     "text": [
      "[6, 6]\n"
     ]
    }
   ],
   "source": [
    "int a = 6;\n",
    "\n",
    "// DOES NOT WORK: unexpected type (because primitive)\n",
    "// ArrayList<int> list = new ArrayList<int>();\n",
    "\n",
    "// Using \"Integer\" wrapper class\n",
    "ArrayList<Integer> list = new ArrayList<Integer>();\n",
    "\n",
    "// Creating \"Integer\" from int\n",
    "Integer a_wrap = new Integer(a);\n",
    "list.add(a_wrap);\n",
    "\n",
    "// Using java to automatically cast int to Integer\n",
    "list.add(a);\n",
    "\n",
    "// Both elements are there\n",
    "System.out.println(list);"
   ]
  },
  {
   "cell_type": "markdown",
   "metadata": {},
   "source": [
    "# Unit 2: Using Objects\n",
    "- Objects are just an instance created out of a class created w/ a constructor (which takes in parameters describing the object\n",
    "- Methods in objects can be void (returns nothing) or have a return type specified\n",
    "- Static methods and properties are tied to class rather than object (ie. same value for all objects)\n",
    "- Methods can be overloaded (have different sets of parameters) as long as order of types differs between method definitions even with same name\n",
    "- [Homework](https://rohanj.dev/apcsa_fastpages/2022/10/23/unit-2.html)"
   ]
  },
  {
   "cell_type": "markdown",
   "metadata": {},
   "source": [
    "## Concatenation\n",
    "- Allows you to combine strings together using + sign\n",
    "- If string is added to a non string type, the toString method is used, or for primitives it is automatically converted to string"
   ]
  },
  {
   "cell_type": "code",
   "execution_count": 7,
   "metadata": {},
   "outputs": [
    {
     "name": "stdout",
     "output_type": "stream",
     "text": [
      "a string and another string \n",
      "a string and another string 10\n",
      "a string and another string a cool class\n"
     ]
    }
   ],
   "source": [
    "public class CoolClass {\n",
    "  public String toString() {\n",
    "    return \"a cool class\";\n",
    "  }\n",
    "}\n",
    "\n",
    "String a = \"a string\";\n",
    "String b = \" and another string \";\n",
    "int c = 10;\n",
    "CoolClass d = new CoolClass();\n",
    "\n",
    "// Adding two strings together\n",
    "System.out.println(a + b);\n",
    "\n",
    "// Adding string and primitive (integer);\n",
    "System.out.println(a + b + c);\n",
    "\n",
    "// Adding string and other object (uses toString)\n",
    "System.out.println(a + b + d);"
   ]
  },
  {
   "cell_type": "markdown",
   "metadata": {},
   "source": [
    "## Math class\n",
    "- Math class is useful for many mathematical operations such as square root and power\n",
    "- Also useful for random numnber generation, Math.random gives number 0-1 which can be scaled to any set of numbers (see below code)"
   ]
  },
  {
   "cell_type": "code",
   "execution_count": 11,
   "metadata": {},
   "outputs": [
    {
     "name": "stdout",
     "output_type": "stream",
     "text": [
      "10\n",
      "1\n",
      "10\n",
      "6\n",
      "2\n",
      "5\n",
      "1\n",
      "6\n",
      "8\n",
      "10\n"
     ]
    }
   ],
   "source": [
    "int n = 10; // random number from 1-n\n",
    "\n",
    "// 10 random numbers\n",
    "for (int i = 0; i<10; i++) {\n",
    "  int random_number = (int)(Math.random() * n + 1); // cast to int ensures resulting output is whole number\n",
    "  System.out.println(random_number);\n",
    "}"
   ]
  },
  {
   "cell_type": "markdown",
   "metadata": {},
   "source": [
    "## Comparing Numbers/Strings/Objects\n",
    "- Numbers can be compared using the \"==\" operator\n",
    "- Objects such as strings must be compared using \".equals()\" rather than \"==\" operator\n",
    "  - The \"==\" operator comapres the memory location rather than contents of object"
   ]
  },
  {
   "cell_type": "code",
   "execution_count": 2,
   "metadata": {},
   "outputs": [
    {
     "name": "stdout",
     "output_type": "stream",
     "text": [
      "true\n",
      "false\n",
      "true\n",
      "false\n",
      "true\n"
     ]
    }
   ],
   "source": [
    "int a = 0;\n",
    "int b = 0;\n",
    "int c = 1;\n",
    "\n",
    "// Comparing two same numbers\n",
    "System.out.println(a == b);\n",
    "\n",
    "// Comparing two different numbers\n",
    "System.out.println(a == c);\n",
    "\n",
    "String as = new String(\"crazy\");\n",
    "String bs = new String(\"crazy\");\n",
    "\n",
    "// Comparing the same string to itself (SAME memory location)\n",
    "System.out.println(as == as);\n",
    "\n",
    "// Comparing strings with same content using wrong operator (DIFFERENT memory location)\n",
    "System.out.println(as == bs);\n",
    "\n",
    "// Comparing strings with same content using correct .equals()\n",
    "System.out.println(as.equals(bs));"
   ]
  },
  {
   "cell_type": "markdown",
   "metadata": {},
   "source": [
    "# Unit 3: Booleans/If statement\n",
    "- Booleans store a true/false value (can only be one of these)\n",
    "- Booleans can be generated using comparison expressions (equal/==, greater than/>, less than/<, etc.)\n",
    "- If statements take in a boolean or boolean expression and run if the expression evaluates to \"true\"\n",
    "- Else & Else if statements can be used in conjunction with if statements to run code if the if statement evaluates to false\n",
    "- [Homework](https://kinerboi.github.io/myFirstRepopart2/2022/10/24/Unit3.html)"
   ]
  },
  {
   "cell_type": "markdown",
   "metadata": {},
   "source": [
    "## Compound Boolean Expression\n",
    "- Using combinations of boolean operators, you can make compound boolean expressions\n",
    "- Operators that can be used include and (&&), or (||), not (!), as well as parenthesis for grouping purposes"
   ]
  },
  {
   "cell_type": "code",
   "execution_count": 12,
   "metadata": {},
   "outputs": [
    {
     "name": "stdout",
     "output_type": "stream",
     "text": [
      "false\n"
     ]
    }
   ],
   "source": [
    "boolean a = true;\n",
    "boolean b = false;\n",
    "\n",
    "// Creating a compound expression\n",
    "boolean compound = !(a && b) && (b || a) && (!b && !a);\n",
    "\n",
    "// Printing the result\n",
    "System.out.println(compound);"
   ]
  },
  {
   "cell_type": "markdown",
   "metadata": {},
   "source": [
    "## Truth Tables\n",
    "- Can be used to see the values of boolean expressions\n",
    "- For example, below is truth tables for and/or\n",
    "### AND\n",
    "X | 0 | 1 |<br>\n",
    "0 | 0 | 0 |<br>\n",
    "1 | 0 | 1 |<br>\n",
    "### OR\n",
    "X | 0 | 1 |<br>\n",
    "0 | 0 | 1 |<br>\n",
    "1 | 1 | 1 |<br>"
   ]
  },
  {
   "cell_type": "markdown",
   "metadata": {},
   "source": [
    "## De Morgan's Law\n",
    "- Useful for simplifying boolean expresison\n",
    "- States that ``!(a && b) = !a || !b`` AND ``!(a || b) = !a && !b`` (ie. distribute and switch the middle sign) "
   ]
  },
  {
   "cell_type": "code",
   "execution_count": 13,
   "metadata": {},
   "outputs": [
    {
     "name": "stdout",
     "output_type": "stream",
     "text": [
      "false false false\n"
     ]
    }
   ],
   "source": [
    "boolean a = true;\n",
    "boolean b = false;\n",
    "boolean c = true;\n",
    "boolean d = false;\n",
    "\n",
    "// complicated boolean expression\n",
    "boolean res1 = !((!(a && b)) || (!(a || b)));\n",
    "\n",
    "// simplified using De Morgan's Law once\n",
    "boolean res2 = !((!a || !b) || (!a && !b));\n",
    "\n",
    "//simplified using De Morgan's Law twice\n",
    "boolean res3 = !(!a || !b) && !(!a && !b);\n",
    "\n",
    "// all results are the same\n",
    "System.out.println(res1 + \" \" + res2 + \" \" + res3);"
   ]
  },
  {
   "cell_type": "markdown",
   "metadata": {},
   "source": [
    "# Unit 4: Iteration\n",
    "- While loop runs while a boolean condition is true (be careful with infinite loops!)\n",
    "- For loops create a variable which is modified on every loop iteration and has an end condition (useful for iterating through arrays, especially in different ways based on the modification, ie. i += 2 for all even indexes)\n",
    "- For & while loops can be nested inside each other to achieve more iteration (really useful with 2D arrays)\n",
    "- For each/Enhanced for loops really useful for looping through an array (int val : array) but limited in that they go through all elements from first to last and that cannot be modified\n",
    "- [Homework](https://rohanj.dev/apcsa_fastpages/2022/10/23/caesar.html)"
   ]
  },
  {
   "cell_type": "markdown",
   "metadata": {},
   "source": [
    "## For loop/Enhanced for loop\n",
    "- For loops can be used to iterate through an index, and modify it in different ways in the for loop declaration\n",
    "- The enhanced for loop is exclusively used for iterating fully through an iterable (such as array)"
   ]
  },
  {
   "cell_type": "code",
   "execution_count": 3,
   "metadata": {},
   "outputs": [
    {
     "name": "stdout",
     "output_type": "stream",
     "text": [
      "0\n",
      "2\n",
      "4\n",
      "6\n",
      "8\n",
      "1\n",
      "2\n",
      "3\n",
      "7\n",
      "8\n",
      "1\n",
      "2\n",
      "3\n",
      "7\n",
      "8\n"
     ]
    }
   ],
   "source": [
    "// looping through even numbers\n",
    "for (int i = 0; i<10; i+=2) {\n",
    "  System.out.println(i);\n",
    "}\n",
    "\n",
    "int[] arr = {1, 2, 3, 7, 8};\n",
    "\n",
    "// looping through array with conventional for lopo\n",
    "for (int i = 0; i<arr.length; i++) {\n",
    "  System.out.println(arr[i]);\n",
    "}\n",
    "\n",
    "// looping through array with enhanced for loop\n",
    "for (int i : arr) {\n",
    "  System.out.println(i);\n",
    "}"
   ]
  },
  {
   "cell_type": "markdown",
   "metadata": {},
   "source": [
    "## While loop versus Do While loop\n",
    "- While loops run while a condition is true, the condition is checked before each iteration of the code is run\n",
    "- Do while loops also run while a condition is true, but the condition is checked AFTER each iteration of the code is run\n",
    "  - This means that no matter what the do block runs at least once before the condition is checked"
   ]
  },
  {
   "cell_type": "code",
   "execution_count": 6,
   "metadata": {},
   "outputs": [
    {
     "name": "stdout",
     "output_type": "stream",
     "text": [
      "0\n",
      "2\n",
      "4\n",
      "6\n",
      "8\n",
      "inside do-while loop\n"
     ]
    }
   ],
   "source": [
    "int i = 0;\n",
    "boolean falseBool = false;\n",
    "\n",
    "// printing even numbers with while loop\n",
    "while (i < 10) {\n",
    "  System.out.println(i);\n",
    "  i += 2;\n",
    "}\n",
    "\n",
    "// if condition is false while loop does not run at all\n",
    "while (falseBool) {\n",
    "  System.out.println(\"inside while loop\");\n",
    "}\n",
    "\n",
    "// if condition is false in do while, the loop runs once\n",
    "do {\n",
    "  System.out.println(\"inside do-while loop\");\n",
    "} while (falseBool);"
   ]
  },
  {
   "cell_type": "markdown",
   "metadata": {},
   "source": [
    "## nested Loops\n",
    "- Loops can be used inside each other for better iteration\n",
    "- Especially useful for 2D arrays"
   ]
  },
  {
   "cell_type": "code",
   "execution_count": 8,
   "metadata": {},
   "outputs": [
    {
     "name": "stdout",
     "output_type": "stream",
     "text": [
      "1 2 3 \n",
      "2 3 4 \n",
      "4 5 6 \n"
     ]
    }
   ],
   "source": [
    "int[][] arr = {\n",
    "  {1, 2, 3},\n",
    "  {2, 3, 4},\n",
    "  {4, 5, 6}\n",
    "};\n",
    "\n",
    "// using nested for loops for 2D array\n",
    "for (int i = 0; i<arr.length; i++) {\n",
    "  for (int j = 0; j<arr[i].length; j++) {\n",
    "    System.out.print(arr[i][j] + \" \");\n",
    "  }\n",
    "  System.out.println();\n",
    "}"
   ]
  },
  {
   "cell_type": "markdown",
   "metadata": {},
   "source": [
    "# Unit 5: Writing Classes\n",
    "- Classes can be used for creating objects and have two main things: properties and methods\n",
    "- Properties are used to store information about each object of a class (can be made private/public which determines accessibility outside of class)\n",
    "- Methods are used to modify the object & do things\n",
    "- Getter and Setter Methods can be used to modify properties of a class which are made private\n",
    "- [Homework](https://kinerboi.github.io/myFirstRepopart2/2022/10/20/Class.html)"
   ]
  },
  {
   "cell_type": "markdown",
   "metadata": {},
   "source": [
    "## Creating a Class, describe Naming Conventions\n",
    "- Class can be created using the class keyword\n",
    "- Class should be defined using upper camelcase (camelcase but first letter capital)"
   ]
  },
  {
   "cell_type": "code",
   "execution_count": 9,
   "metadata": {},
   "outputs": [],
   "source": [
    "// creating a class\n",
    "class MyClass {\n",
    "\n",
    "}"
   ]
  },
  {
   "cell_type": "markdown",
   "metadata": {},
   "source": [
    "## Main Method\n",
    "- The main method is used to test a class, is automatically called when class ran\n",
    "- Usually creates an object and can test methods"
   ]
  },
  {
   "cell_type": "code",
   "execution_count": 11,
   "metadata": {},
   "outputs": [],
   "source": [
    "class MyClass {\n",
    "  // main method\n",
    "  public static void main (String[] args) {\n",
    "    MyClass obj = new MyClass();\n",
    "  }\n",
    "}\n",
    "\n",
    "MyClass.main(null);"
   ]
  },
  {
   "cell_type": "markdown",
   "metadata": {},
   "source": [
    "## This keyword\n",
    "- The \"this\" keyword allows you to access properties of the class\n",
    "- See constructor example to see use of this keyword"
   ]
  },
  {
   "cell_type": "markdown",
   "metadata": {},
   "source": [
    "## Constructor\n",
    "- Constructor is called whenver the object is created, usually initializes fields\n",
    "- Does not return anything because the object is automatically given to the user when constructor is called"
   ]
  },
  {
   "cell_type": "code",
   "execution_count": 15,
   "metadata": {},
   "outputs": [],
   "source": [
    "class MyClass {\n",
    "  int prop1;\n",
    "  int prop2;\n",
    "\n",
    "  // Constructor here\n",
    "  public MyClass (int prop1input, int prop2input) {\n",
    "    // setting properties using this to reference prop1 & prop2 of the object\n",
    "    this.prop1 = prop1input;\n",
    "    this.prop2 = prop2input;\n",
    "  }\n",
    "\n",
    "  public static void main (String[] args) {\n",
    "    MyClass obj = new MyClass(1, 2);\n",
    "  }\n",
    "}\n",
    "\n",
    "MyClass.main(null);"
   ]
  },
  {
   "cell_type": "markdown",
   "metadata": {},
   "source": [
    "## Accessor/Getter methods\n",
    "- Used to get properties of an object from the outside the class definition\n",
    "- Getters can be applied on only the properties which should be accessed outside the class"
   ]
  },
  {
   "cell_type": "code",
   "execution_count": 16,
   "metadata": {},
   "outputs": [
    {
     "name": "stdout",
     "output_type": "stream",
     "text": [
      "1\n"
     ]
    }
   ],
   "source": [
    "class MyClass {\n",
    "  int prop1;\n",
    "  int prop2;\n",
    "\n",
    "  // Constructor here\n",
    "  public MyClass (int prop1input, int prop2input) {\n",
    "    // setting properties using this to reference prop1 & prop2 of the object\n",
    "    this.prop1 = prop1input;\n",
    "    this.prop2 = prop2input;\n",
    "  }\n",
    "\n",
    "  // getter allows outside class to access prop1\n",
    "  public int getProp1() {\n",
    "    return this.prop1;\n",
    "  }\n",
    "\n",
    "  public static void main (String[] args) {\n",
    "    MyClass obj = new MyClass(1, 2);\n",
    "\n",
    "    // using getter to access prop1\n",
    "    System.out.println(obj.getProp1());\n",
    "  }\n",
    "}\n",
    "\n",
    "MyClass.main(null);\n",
    "\n"
   ]
  },
  {
   "cell_type": "markdown",
   "metadata": {},
   "source": [
    "## Mutator/setter methods\n",
    "- These methods allow the properties which should be modifiable to be chagned outside the class definition\n",
    "- These methods have a \"void\" return type since they don't need to return anything, since they are only setting values"
   ]
  },
  {
   "cell_type": "code",
   "execution_count": 17,
   "metadata": {},
   "outputs": [
    {
     "name": "stdout",
     "output_type": "stream",
     "text": [
      "1\n",
      "10\n"
     ]
    }
   ],
   "source": [
    "class MyClass {\n",
    "  int prop1;\n",
    "  int prop2;\n",
    "\n",
    "  // Constructor here\n",
    "  public MyClass (int prop1input, int prop2input) {\n",
    "    // setting properties using this to reference prop1 & prop2 of the object\n",
    "    this.prop1 = prop1input;\n",
    "    this.prop2 = prop2input;\n",
    "  }\n",
    "\n",
    "  // getter allows outside class to access prop1\n",
    "  public int getProp1() {\n",
    "    return this.prop1;\n",
    "  }\n",
    "\n",
    "  // setter allows outside class to set prop1\n",
    "  public void setProp1 (int propVal) {\n",
    "    this.prop1 = propVal;\n",
    "  }\n",
    "\n",
    "  public static void main (String[] args) {\n",
    "    MyClass obj = new MyClass(1, 2);\n",
    "\n",
    "    // using getter to access prop1\n",
    "    System.out.println(obj.getProp1());\n",
    "\n",
    "    // changing value of prop1\n",
    "    obj.setProp1(10);\n",
    "\n",
    "    // using getter to access new value of prop1\n",
    "    System.out.println(obj.getProp1());\n",
    "  }\n",
    "}\n",
    "\n",
    "MyClass.main(null);\n",
    "\n"
   ]
  },
  {
   "cell_type": "markdown",
   "metadata": {},
   "source": [
    "## Access modifiers\n",
    "- Access modifiers control whether properties and methods can be accessed outside the class\n",
    "- The public means the property/method is accessible outside while if it is private it is not accessible"
   ]
  },
  {
   "cell_type": "code",
   "execution_count": 18,
   "metadata": {},
   "outputs": [
    {
     "name": "stdout",
     "output_type": "stream",
     "text": [
      "11\n"
     ]
    }
   ],
   "source": [
    "class MyClass {\n",
    "  // prop1 cannot be directly accessed\n",
    "  private int prop1;\n",
    "\n",
    "  // prop2 can be directly accessed\n",
    "  public int prop2;\n",
    "\n",
    "  // Constructor here\n",
    "  public MyClass (int prop1input, int prop2input) {\n",
    "    // setting properties using this to reference prop1 & prop2 of the object\n",
    "    this.prop1 = prop1input;\n",
    "    this.prop2 = prop2input;\n",
    "  }\n",
    "\n",
    "  // getter allows outside class to access prop1\n",
    "  public int getProp1() {\n",
    "    return this.prop1;\n",
    "  }\n",
    "\n",
    "  // setter allows outside class to set prop1\n",
    "  public void setProp1 (int propVal) {\n",
    "    this.prop1 = propVal;\n",
    "  }\n",
    "\n",
    "  public static void main (String[] args) {\n",
    "    MyClass obj = new MyClass(1, 2);\n",
    "\n",
    "    // would throw error\n",
    "    // obj.prop1 = 10;\n",
    "\n",
    "    // works (because public)\n",
    "    obj.prop2 = 11;\n",
    "    System.out.println(obj.prop2);\n",
    "  }\n",
    "}\n",
    "\n",
    "MyClass.main(null);\n",
    "\n"
   ]
  },
  {
   "cell_type": "markdown",
   "metadata": {},
   "source": [
    "## Static methods/properties\n",
    "- Static properties and methods are part of the class rather than each object\n",
    "- Static methods do not require an object, and static properties only have one instance that is the same for all objects"
   ]
  },
  {
   "cell_type": "code",
   "execution_count": 20,
   "metadata": {},
   "outputs": [
    {
     "name": "stdout",
     "output_type": "stream",
     "text": [
      "test cool\n",
      "10\n"
     ]
    }
   ],
   "source": [
    "class MyClass {\n",
    "  // static method\n",
    "  static String coolMethod (String a) {\n",
    "    return a + \" cool\";\n",
    "  }\n",
    "\n",
    "  // static property\n",
    "  static int staticProp = 10;\n",
    "\n",
    "  public static void main(String[] args) {\n",
    "    // no object needed for any of this\n",
    "    System.out.println(MyClass.coolMethod(\"test\"));\n",
    "    System.out.println(MyClass.staticProp);\n",
    "  }\n",
    "}\n",
    "\n",
    "MyClass.main(null);"
   ]
  }
 ],
 "metadata": {
  "kernelspec": {
   "display_name": "Java",
   "language": "java",
   "name": "java"
  },
  "language_info": {
   "codemirror_mode": "java",
   "file_extension": ".jshell",
   "mimetype": "text/x-java-source",
   "name": "java",
   "pygments_lexer": "java",
   "version": "11.0.14+9-Ubuntu-0ubuntu2.16.04"
  },
  "orig_nbformat": 4
 },
 "nbformat": 4,
 "nbformat_minor": 2
}
